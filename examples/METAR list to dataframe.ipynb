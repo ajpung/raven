{
 "cells": [
  {
   "cell_type": "markdown",
   "id": "2ed71e30-05d2-4ccc-ad0f-f677052e227f",
   "metadata": {},
   "source": [
    "## Utility functions\n",
    "\n",
    "- find_indices_of_length_one"
   ]
  },
  {
   "cell_type": "code",
   "execution_count": null,
   "id": "390694c1-0759-45f8-ad40-f4fb5abe6a13",
   "metadata": {
    "jupyter": {
     "source_hidden": true
    }
   },
   "outputs": [],
   "source": [
    "def find_indices_of_length_one(data):\n",
    "    \"\"\"\n",
    "    Finds the indices of elements with length 1 in a list.\n",
    "\n",
    "    Args:\n",
    "        data: A list of elements (strings, lists, etc.).\n",
    "\n",
    "    Returns:\n",
    "        A list of indices where elements have length 1.\n",
    "    \"\"\"\n",
    "    indices = []\n",
    "    for index, element in enumerate(data):\n",
    "        try:\n",
    "            if len(element) == 1:\n",
    "                indices.append(index)\n",
    "        except TypeError:\n",
    "            # Handle cases where len() is not applicable (e.g., for integers)\n",
    "            continue\n",
    "    return indices"
   ]
  },
  {
   "cell_type": "markdown",
   "id": "8e46b7e8-caa2-4197-b8c2-246c8fc76862",
   "metadata": {},
   "source": [
    "## Open / read file"
   ]
  },
  {
   "cell_type": "code",
   "execution_count": 52,
   "id": "5d6a4161-45ff-4621-a30c-0f77988c84c1",
   "metadata": {},
   "outputs": [],
   "source": [
    "import numpy as np\n",
    "import pandas as pd\n",
    "\n",
    "# Text file containing METARs\n",
    "text_file = \"../docs/_static/stations.txt\"\n",
    "\n",
    "# Read / open METAR file\n",
    "with open(text_file, \"r\") as file:\n",
    "    lines = file.readlines()"
   ]
  },
  {
   "cell_type": "markdown",
   "id": "1613208b-e131-4643-92dc-e2c38a81cacd",
   "metadata": {},
   "source": [
    "## Eliminate header / ID rows for deletion"
   ]
  },
  {
   "cell_type": "code",
   "execution_count": 53,
   "id": "9e76d1a5-410f-4e05-a66b-205d0d7e0644",
   "metadata": {},
   "outputs": [
    {
     "name": "stdout",
     "output_type": "stream",
     "text": [
      "10226\n",
      "9720\n"
     ]
    }
   ],
   "source": [
    "# Eliminate header\n",
    "data = lines[44:]\n",
    "\n",
    "# Identify rows without useful data\n",
    "indices = find_indices_of_length_one(data)\n",
    "indices += [indices[i] + 1 for i in np.arange(len(indices))]\n",
    "sort_idx = sorted(indices)\n",
    "\n",
    "# Delete rows at elements\n",
    "data = [item for i, item in enumerate(data) if i not in sort_idx]"
   ]
  },
  {
   "cell_type": "code",
   "execution_count": null,
   "id": "fbe3e8f4-c0c2-407c-bbd1-0fa814d953bb",
   "metadata": {},
   "outputs": [],
   "source": []
  }
 ],
 "metadata": {
  "kernelspec": {
   "display_name": "RAVEN Environment",
   "language": "python",
   "name": "raven-env"
  },
  "language_info": {
   "codemirror_mode": {
    "name": "ipython",
    "version": 3
   },
   "file_extension": ".py",
   "mimetype": "text/x-python",
   "name": "python",
   "nbconvert_exporter": "python",
   "pygments_lexer": "ipython3",
   "version": "3.13.2"
  }
 },
 "nbformat": 4,
 "nbformat_minor": 5
}
