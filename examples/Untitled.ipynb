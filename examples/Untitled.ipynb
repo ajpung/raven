{
 "cells": [
  {
   "cell_type": "code",
   "execution_count": 1,
   "id": "0a2aa346-17d5-4663-be26-2fedc3e5093b",
   "metadata": {},
   "outputs": [
    {
     "ename": "ModuleNotFoundError",
     "evalue": "No module named 'raven'",
     "output_type": "error",
     "traceback": [
      "\u001b[1;31m---------------------------------------------------------------------------\u001b[0m",
      "\u001b[1;31mModuleNotFoundError\u001b[0m                       Traceback (most recent call last)",
      "Cell \u001b[1;32mIn[1], line 1\u001b[0m\n\u001b[1;32m----> 1\u001b[0m \u001b[38;5;28;01mfrom\u001b[39;00m\u001b[38;5;250m \u001b[39m\u001b[38;5;21;01mraven\u001b[39;00m\u001b[38;5;21;01m.\u001b[39;00m\u001b[38;5;21;01mmodules\u001b[39;00m\u001b[38;5;21;01m.\u001b[39;00m\u001b[38;5;21;01mweather\u001b[39;00m\u001b[38;5;250m \u001b[39m\u001b[38;5;28;01mimport\u001b[39;00m collect_api_keys\n\u001b[0;32m      3\u001b[0m my_keys \u001b[38;5;241m=\u001b[39m collect_api_keys()\n\u001b[0;32m      4\u001b[0m \u001b[38;5;28mprint\u001b[39m(my_keys)\n",
      "\u001b[1;31mModuleNotFoundError\u001b[0m: No module named 'raven'"
     ]
    }
   ],
   "source": [
    "from raven.modules.weather import collect_api_keys\n",
    "\n",
    "my_keys = collect_api_keys()\n",
    "print(my_keys)"
   ]
  },
  {
   "cell_type": "code",
   "execution_count": null,
   "id": "aa3c3303-0ac1-4be7-ab5d-78136c7a4af8",
   "metadata": {},
   "outputs": [],
   "source": []
  }
 ],
 "metadata": {
  "kernelspec": {
   "display_name": "Python 3 (ipykernel)",
   "language": "python",
   "name": "python3"
  },
  "language_info": {
   "codemirror_mode": {
    "name": "ipython",
    "version": 3
   },
   "file_extension": ".py",
   "mimetype": "text/x-python",
   "name": "python",
   "nbconvert_exporter": "python",
   "pygments_lexer": "ipython3",
   "version": "3.13.2"
  }
 },
 "nbformat": 4,
 "nbformat_minor": 5
}
