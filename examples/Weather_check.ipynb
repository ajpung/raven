{
 "cells": [
  {
   "cell_type": "code",
   "execution_count": 1,
   "id": "3308bbd7-2dd2-4bfa-b64f-b0abd0425d67",
   "metadata": {},
   "outputs": [],
   "source": [
    "# test_weather.py\n",
    "from raven.modules.weather import collect_openmet_current\n",
    "from raven.modules.weather import collect_openwx\n",
    "from raven.modules.weather import collect_tomorrow\n",
    "from raven.modules.weather import collect_viscrs\n",
    "\n",
    "# Parameters\n",
    "lat, lon = 38.422508, -85.797633"
   ]
  },
  {
   "cell_type": "code",
   "execution_count": 2,
   "id": "72c3d135-c097-46e7-a173-9cb66d6449b8",
   "metadata": {},
   "outputs": [
    {
     "name": "stdout",
     "output_type": "stream",
     "text": [
      "{'datetime': {'date': '2025-02-26', 'time': '12:28:00', 'utc_epoch': None, 'epoch': 1740590880}, 'location': {'latitude': None, 'longitude': None, 'altitude': None, 'name': None, 'country': None, 'latitutde': 38.422508, 'longitutde': -85.797633}, 'data': {'model': None, 'code': 1000, 'clouds': {'base': None, 'ceiling': None, 'altitude': None, 'cover': 6}, 'energy': {'conv_avail_pot': None, 'conv_inhibition': None, 'lifted_index': None, 'bndry_layer_height': None, 'geopotential': None, 'tabulated': {'heights': None, 'values': None}}, 'health': {'uv_concern': 0, 'uv_index': 0}, 'moon': {'phase': None, 'moonrise': None, 'moonset': None}, 'particulates': {'species': None, 'pollutant': None, 'matter': None}, 'precipitation': {'rain': {'intensity': 0, 'probability': None, 'accumulated': None, 'frz_rain_int': 0}, 'snow': {'intensity': 0.0, 'probability': None, 'accumulated': None}, 'sleet': {'intensity': 0, 'probability': None, 'accumulated': None}, 'ice': {'intensity': None, 'probability': None, 'accumulated': None}, 'hail': {'intensity': None, 'probability': 70.4, 'accumulated': None, 'size': 6.56}, 'evapotranspiration': None, 'probability': 0}, 'pressure': {'tabulated': {'heights': None, 'values': None}, 'sea_level': 1013, 'surface': None, 'surface_level': 990}, 'radiation': {'diffuse_ghi': None, 'diffuse_inst': None, 'direct_ghi': None, 'direct_inst': None, 'cape': None, 'glob_tilt_irrad': None, 'glob_horz_rad': None, 'shortwave_ghi': None, 'shortwave_inst': None}, 'soil': {'vol_moisture': None, 'temperature': None}, 'sun': {'sunrise': None, 'sunset': None}, 'temperature': {'tabulated': {'heights': None, 'values': None}, 'measured': 2.3, 'apparent': 0.4, 'dewpoint': 0, 'humidity': 85}, 'visibility': 15.89, 'wind': {'speed': 6.48, 'gust': 11.16, 'direction': 170}, 'waves': {'height': None, 'direction': None, 'period': None}}}\n"
     ]
    }
   ],
   "source": [
    "# Tomorrow.io\n",
    "tmrw_data = collect_tomorrow(lat, lon)\n",
    "print(tmrw_data)"
   ]
  },
  {
   "cell_type": "code",
   "execution_count": 3,
   "id": "a28c0635-0982-4401-b42d-8f1bf9b24303",
   "metadata": {},
   "outputs": [
    {
     "ename": "OpenMeteoRequestsError",
     "evalue": "{'reason': \"Data corrupted at path ''. Cannot initialize SurfacePressureAndHeightVariable<VariableAndPreviousDay, ForecastPressureVariable, ForecastHeightVariable> from invalid String value temp_1000hpa.\", 'error': True}",
     "output_type": "error",
     "traceback": [
      "\u001b[1;31m---------------------------------------------------------------------------\u001b[0m",
      "\u001b[1;31mOpenMeteoRequestsError\u001b[0m                    Traceback (most recent call last)",
      "Cell \u001b[1;32mIn[3], line 2\u001b[0m\n\u001b[0;32m      1\u001b[0m \u001b[38;5;66;03m# OpenMeteo\u001b[39;00m\n\u001b[1;32m----> 2\u001b[0m opmt_data \u001b[38;5;241m=\u001b[39m \u001b[43mcollect_openmet_current\u001b[49m\u001b[43m(\u001b[49m\u001b[43mlat\u001b[49m\u001b[43m,\u001b[49m\u001b[43m \u001b[49m\u001b[43mlon\u001b[49m\u001b[43m)\u001b[49m\n\u001b[0;32m      3\u001b[0m \u001b[38;5;28mprint\u001b[39m(opmt_data)\n",
      "File \u001b[1;32mG:\\Dropbox\\AI Projects\\raven\\src\\raven\\modules\\weather\\open_meteo.py:364\u001b[0m, in \u001b[0;36mcollect_openmet_current\u001b[1;34m(lat, lon)\u001b[0m\n\u001b[0;32m    362\u001b[0m \u001b[38;5;28;01mdef\u001b[39;00m\u001b[38;5;250m \u001b[39m\u001b[38;5;21mcollect_openmet_current\u001b[39m(lat: \u001b[38;5;28mfloat\u001b[39m, lon: \u001b[38;5;28mfloat\u001b[39m) \u001b[38;5;241m-\u001b[39m\u001b[38;5;241m>\u001b[39m Dict[\u001b[38;5;28mstr\u001b[39m, Any]:\n\u001b[0;32m    363\u001b[0m     \u001b[38;5;66;03m# Collect data\u001b[39;00m\n\u001b[1;32m--> 364\u001b[0m     lat, lon, response \u001b[38;5;241m=\u001b[39m \u001b[43mcollect_openmt\u001b[49m\u001b[43m(\u001b[49m\u001b[43mlat\u001b[49m\u001b[43m,\u001b[49m\u001b[43m \u001b[49m\u001b[43mlon\u001b[49m\u001b[43m)\u001b[49m\n\u001b[0;32m    365\u001b[0m     current \u001b[38;5;241m=\u001b[39m response\u001b[38;5;241m.\u001b[39mCurrent()\n\u001b[0;32m    366\u001b[0m     \u001b[38;5;66;03m# Parse data\u001b[39;00m\n",
      "File \u001b[1;32mG:\\Dropbox\\AI Projects\\raven\\src\\raven\\modules\\weather\\open_meteo.py:355\u001b[0m, in \u001b[0;36mcollect_openmt\u001b[1;34m(lat, lon)\u001b[0m\n\u001b[0;32m    151\u001b[0m url \u001b[38;5;241m=\u001b[39m \u001b[38;5;124m\"\u001b[39m\u001b[38;5;124mhttps://api.open-meteo.com/v1/forecast\u001b[39m\u001b[38;5;124m\"\u001b[39m\n\u001b[0;32m    152\u001b[0m params \u001b[38;5;241m=\u001b[39m {\n\u001b[0;32m    153\u001b[0m     \u001b[38;5;124m\"\u001b[39m\u001b[38;5;124mlatitude\u001b[39m\u001b[38;5;124m\"\u001b[39m: lat,\n\u001b[0;32m    154\u001b[0m     \u001b[38;5;124m\"\u001b[39m\u001b[38;5;124mlongitude\u001b[39m\u001b[38;5;124m\"\u001b[39m: lon,\n\u001b[1;32m   (...)\u001b[0m\n\u001b[0;32m    353\u001b[0m     ],\n\u001b[0;32m    354\u001b[0m }\n\u001b[1;32m--> 355\u001b[0m responses \u001b[38;5;241m=\u001b[39m \u001b[43mopenmeteo\u001b[49m\u001b[38;5;241;43m.\u001b[39;49m\u001b[43mweather_api\u001b[49m\u001b[43m(\u001b[49m\u001b[43murl\u001b[49m\u001b[43m,\u001b[49m\u001b[43m \u001b[49m\u001b[43mparams\u001b[49m\u001b[38;5;241;43m=\u001b[39;49m\u001b[43mparams\u001b[49m\u001b[43m)\u001b[49m\n\u001b[0;32m    357\u001b[0m \u001b[38;5;66;03m# Process first location. Add a for-loop for multiple locations or weather models\u001b[39;00m\n\u001b[0;32m    358\u001b[0m response \u001b[38;5;241m=\u001b[39m responses[\u001b[38;5;241m0\u001b[39m]\n",
      "File \u001b[1;32mG:\\Dropbox\\AI Projects\\raven\\raven-env\\Lib\\site-packages\\openmeteo_requests\\Client.py:54\u001b[0m, in \u001b[0;36mClient.weather_api\u001b[1;34m(self, url, params, method, verify)\u001b[0m\n\u001b[0;32m     50\u001b[0m \u001b[38;5;28;01mdef\u001b[39;00m\u001b[38;5;250m \u001b[39m\u001b[38;5;21mweather_api\u001b[39m(\n\u001b[0;32m     51\u001b[0m     \u001b[38;5;28mself\u001b[39m, url: \u001b[38;5;28mstr\u001b[39m, params: \u001b[38;5;28many\u001b[39m, method: \u001b[38;5;28mstr\u001b[39m \u001b[38;5;241m=\u001b[39m \u001b[38;5;124m\"\u001b[39m\u001b[38;5;124mGET\u001b[39m\u001b[38;5;124m\"\u001b[39m, verify: \u001b[38;5;28mbool\u001b[39m \u001b[38;5;241m|\u001b[39m \u001b[38;5;28mstr\u001b[39m \u001b[38;5;241m|\u001b[39m \u001b[38;5;28;01mNone\u001b[39;00m \u001b[38;5;241m=\u001b[39m \u001b[38;5;28;01mNone\u001b[39;00m\n\u001b[0;32m     52\u001b[0m ) \u001b[38;5;241m-\u001b[39m\u001b[38;5;241m>\u001b[39m \u001b[38;5;28mlist\u001b[39m[WeatherApiResponse]:\n\u001b[0;32m     53\u001b[0m \u001b[38;5;250m    \u001b[39m\u001b[38;5;124;03m\"\"\"Get and decode as weather api\"\"\"\u001b[39;00m\n\u001b[1;32m---> 54\u001b[0m     \u001b[38;5;28;01mreturn\u001b[39;00m \u001b[38;5;28;43mself\u001b[39;49m\u001b[38;5;241;43m.\u001b[39;49m\u001b[43m_get\u001b[49m\u001b[43m(\u001b[49m\u001b[43mWeatherApiResponse\u001b[49m\u001b[43m,\u001b[49m\u001b[43m \u001b[49m\u001b[43murl\u001b[49m\u001b[43m,\u001b[49m\u001b[43m \u001b[49m\u001b[43mparams\u001b[49m\u001b[43m,\u001b[49m\u001b[43m \u001b[49m\u001b[43mmethod\u001b[49m\u001b[43m,\u001b[49m\u001b[43m \u001b[49m\u001b[43mverify\u001b[49m\u001b[43m)\u001b[49m\n",
      "File \u001b[1;32mG:\\Dropbox\\AI Projects\\raven\\raven-env\\Lib\\site-packages\\openmeteo_requests\\Client.py:35\u001b[0m, in \u001b[0;36mClient._get\u001b[1;34m(self, cls, url, params, method, verify)\u001b[0m\n\u001b[0;32m     33\u001b[0m \u001b[38;5;28;01mif\u001b[39;00m response\u001b[38;5;241m.\u001b[39mstatus_code \u001b[38;5;129;01min\u001b[39;00m [\u001b[38;5;241m400\u001b[39m, \u001b[38;5;241m429\u001b[39m]:\n\u001b[0;32m     34\u001b[0m     response_body \u001b[38;5;241m=\u001b[39m response\u001b[38;5;241m.\u001b[39mjson()\n\u001b[1;32m---> 35\u001b[0m     \u001b[38;5;28;01mraise\u001b[39;00m OpenMeteoRequestsError(response_body)\n\u001b[0;32m     37\u001b[0m response\u001b[38;5;241m.\u001b[39mraise_for_status()\n\u001b[0;32m     39\u001b[0m data \u001b[38;5;241m=\u001b[39m response\u001b[38;5;241m.\u001b[39mcontent\n",
      "\u001b[1;31mOpenMeteoRequestsError\u001b[0m: {'reason': \"Data corrupted at path ''. Cannot initialize SurfacePressureAndHeightVariable<VariableAndPreviousDay, ForecastPressureVariable, ForecastHeightVariable> from invalid String value temp_1000hpa.\", 'error': True}"
     ]
    }
   ],
   "source": [
    "# OpenMeteo\n",
    "opmt_data = collect_openmet_current(lat, lon)\n",
    "print(opmt_data)"
   ]
  },
  {
   "cell_type": "code",
   "execution_count": null,
   "id": "c027224f-9253-4cb3-a578-9977d6e1bf02",
   "metadata": {},
   "outputs": [],
   "source": [
    "# OpenWeatherMap\n",
    "opwx_data = collect_openwx(lat, lon)"
   ]
  },
  {
   "cell_type": "code",
   "execution_count": null,
   "id": "11893744-a445-4e37-a9cc-33b1d4918ca8",
   "metadata": {},
   "outputs": [],
   "source": [
    "# Visual Crossing\n",
    "vscs_data = collect_viscrs(lat, lon)"
   ]
  },
  {
   "cell_type": "code",
   "execution_count": null,
   "id": "69de8937-4521-4418-9148-adbd01b2b0ea",
   "metadata": {},
   "outputs": [],
   "source": [
    "# Store data on Azure\n",
    "store_wx_data(wx_id=\"tmrwio\", lat=lat, lon=lon)\n",
    "store_wx_data(wx_id=\"openwx\", lat=lat, lon=lon)\n",
    "tore_wx_data(wx_id=\"openmt\", lat=lat, lon=lon)"
   ]
  }
 ],
 "metadata": {
  "kernelspec": {
   "display_name": "RAVEN Environment",
   "language": "python",
   "name": "raven-env"
  },
  "language_info": {
   "codemirror_mode": {
    "name": "ipython",
    "version": 3
   },
   "file_extension": ".py",
   "mimetype": "text/x-python",
   "name": "python",
   "nbconvert_exporter": "python",
   "pygments_lexer": "ipython3",
   "version": "3.13.2"
  }
 },
 "nbformat": 4,
 "nbformat_minor": 5
}
