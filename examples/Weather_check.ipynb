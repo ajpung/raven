{
 "cells": [
  {
   "cell_type": "markdown",
   "id": "10354cd3-6ae5-4a3c-8423-63345d53ef0f",
   "metadata": {},
   "source": [
    "## Location analysis\n",
    "\n",
    "Ideally, the user specifies an LLA coordinate in the API. The coordinate is then compared to a list of NNNN METARs around the world, choosing the top 5 closest."
   ]
  },
  {
   "cell_type": "code",
   "execution_count": 1,
   "id": "b96002ab-ded6-49aa-9fc1-5ceda5232852",
   "metadata": {},
   "outputs": [],
   "source": [
    "from raven.core.location import find_airport_distances\n",
    "\n",
    "desired_lat, desired_lon = 38.422508, -85.797630\n",
    "data_df = find_airport_distances(lat=desired_lat, lon=desired_lon)\n",
    "\n",
    "lat, lon, icao = [data_df.iloc[0][x] for x in [\"Latitude\", \"Longitude\", \"ICAO\"]]"
   ]
  },
  {
   "cell_type": "markdown",
   "id": "48379070-1a10-4784-8f6d-d9f9b39ad949",
   "metadata": {},
   "source": [
    "## Weather Collection\n",
    "\n",
    "Collected weather sources include modeled data and empirical data. Modeled data draws from Tomorrow.io, OpenMeteo, Visual Crossing, AccuWeather. Empirical data draws from Aviation Weather.\n",
    "\n",
    "Other powerful sources were considered, but are not used based on the lack of a free data tier. Those sources include Synoptic Data."
   ]
  },
  {
   "cell_type": "code",
   "execution_count": 2,
   "id": "f71635d4-48be-4feb-ac7b-03d367f66f34",
   "metadata": {},
   "outputs": [],
   "source": [
    "# test_weather.py\n",
    "from raven.modules.weather import collect_accuwx\n",
    "from raven.modules.weather import collect_tomorrow\n",
    "from raven.modules.weather import collect_openmeteo\n",
    "from raven.modules.weather import collect_aviationwx\n",
    "from raven.modules.weather import collect_visualcrossing"
   ]
  },
  {
   "cell_type": "code",
   "execution_count": 3,
   "id": "11893744-a445-4e37-a9cc-33b1d4918ca8",
   "metadata": {},
   "outputs": [
    {
     "name": "stdout",
     "output_type": "stream",
     "text": [
      "{'queryCost': 1, 'latitude': 38.22, 'longitude': -85.44, 'resolvedAddress': '38.22,-85.44', 'address': '38.22,-85.44', 'timezone': 'Z', 'tzoffset': 0.0, 'days': [{'datetime': '2025-04-01', 'datetimeEpoch': 1743465600, 'temp': 7.8, 'dew': 1.1, 'humidity': 63.7, 'precip': 0.0, 'snow': 0.0, 'snowdepth': 0.0, 'windgust': 37.1, 'windspeed': 16.4, 'winddir': 47.1, 'pressure': 1018.4, 'cloudcover': 65.8, 'visibility': 16.1, 'solarradiation': 237.5, 'solarenergy': 20.5, 'uvindex': 8.0, 'sunriseEpoch': 1743506776, 'sunsetEpoch': 1743552324, 'moonphase': 0.1, 'moonriseEpoch': 1743513025, 'moonsetEpoch': 1743477466, 'conditions': 'Partially cloudy', 'icon': 'partly-cloudy-day'}], 'currentConditions': {'datetime': '11:15:00', 'datetimeEpoch': 1743506100, 'temp': 1.1, 'humidity': 87.1, 'dew': -0.8, 'precip': 0.0, 'snow': 0.0, 'snowdepth': 0.0, 'windgust': 0.0, 'windspeed': 0.0, 'winddir': 24.0, 'pressure': 1020.0, 'visibility': 16.0, 'cloudcover': 0.0, 'solarradiation': 0.0, 'solarenergy': 0.0, 'uvindex': 0.0, 'cape': None, 'cin': None, 'conditions': 'Clear', 'icon': 'clear-night', 'sunriseEpoch': 1743506776, 'sunsetEpoch': 1743552324, 'moonphase': 0.1}}\n"
     ]
    },
    {
     "ename": "KeyError",
     "evalue": "'snow'",
     "output_type": "error",
     "traceback": [
      "\u001b[31m---------------------------------------------------------------------------\u001b[39m",
      "\u001b[31mKeyError\u001b[39m                                  Traceback (most recent call last)",
      "\u001b[36mCell\u001b[39m\u001b[36m \u001b[39m\u001b[32mIn[3]\u001b[39m\u001b[32m, line 2\u001b[39m\n\u001b[32m      1\u001b[39m \u001b[38;5;66;03m# Visual Crossing\u001b[39;00m\n\u001b[32m----> \u001b[39m\u001b[32m2\u001b[39m vscs_data = \u001b[43mcollect_visualcrossing\u001b[49m\u001b[43m(\u001b[49m\u001b[43mlat\u001b[49m\u001b[43m,\u001b[49m\u001b[43m \u001b[49m\u001b[43mlon\u001b[49m\u001b[43m)\u001b[49m\n",
      "\u001b[36mFile \u001b[39m\u001b[32mG:\\Dropbox\\AI Projects\\raven\\src\\raven\\modules\\weather\\visual_crossing.py:213\u001b[39m, in \u001b[36mcollect_visualcrossing\u001b[39m\u001b[34m(lat, lon)\u001b[39m\n\u001b[32m    211\u001b[39m data, date, time, utc_epoch = correct_visualcrossing(data)\n\u001b[32m    212\u001b[39m \u001b[38;5;66;03m# Fill JSON template\u001b[39;00m\n\u001b[32m--> \u001b[39m\u001b[32m213\u001b[39m vscrs_dict = \u001b[43mfill_visualcrossing\u001b[49m\u001b[43m(\u001b[49m\u001b[43mdata\u001b[49m\u001b[43m,\u001b[49m\u001b[43m \u001b[49m\u001b[43mdate\u001b[49m\u001b[43m,\u001b[49m\u001b[43m \u001b[49m\u001b[43mtime\u001b[49m\u001b[43m,\u001b[49m\u001b[43m \u001b[49m\u001b[43mutc_epoch\u001b[49m\u001b[43m)\u001b[49m\n\u001b[32m    214\u001b[39m \u001b[38;5;28;01mreturn\u001b[39;00m vscrs_dict\n",
      "\u001b[36mFile \u001b[39m\u001b[32mG:\\Dropbox\\AI Projects\\raven\\src\\raven\\modules\\weather\\visual_crossing.py:152\u001b[39m, in \u001b[36mfill_visualcrossing\u001b[39m\u001b[34m(data, date, time, utc_epoch, json_file)\u001b[39m\n\u001b[32m    150\u001b[39m viscross_dict[\u001b[33m\"\u001b[39m\u001b[33mdata\u001b[39m\u001b[33m\"\u001b[39m][\u001b[33m\"\u001b[39m\u001b[33mprecipitation\u001b[39m\u001b[33m\"\u001b[39m][\u001b[33m\"\u001b[39m\u001b[33mprobability\u001b[39m\u001b[33m\"\u001b[39m] = precip_prob\n\u001b[32m    151\u001b[39m \u001b[38;5;66;03m# Snow\u001b[39;00m\n\u001b[32m--> \u001b[39m\u001b[32m152\u001b[39m \u001b[43mviscross_dict\u001b[49m\u001b[43m[\u001b[49m\u001b[33;43m\"\u001b[39;49m\u001b[33;43mdata\u001b[39;49m\u001b[33;43m\"\u001b[39;49m\u001b[43m]\u001b[49m\u001b[43m[\u001b[49m\u001b[33;43m\"\u001b[39;49m\u001b[33;43msnow\u001b[39;49m\u001b[33;43m\"\u001b[39;49m\u001b[43m]\u001b[49m[\u001b[33m\"\u001b[39m\u001b[33mintensity\u001b[39m\u001b[33m\"\u001b[39m] = data[\u001b[33m\"\u001b[39m\u001b[33mcurrentConditions\u001b[39m\u001b[33m\"\u001b[39m][\u001b[33m\"\u001b[39m\u001b[33msnow\u001b[39m\u001b[33m\"\u001b[39m]\n\u001b[32m    153\u001b[39m viscross_dict[\u001b[33m\"\u001b[39m\u001b[33mdata\u001b[39m\u001b[33m\"\u001b[39m][\u001b[33m\"\u001b[39m\u001b[33msnow\u001b[39m\u001b[33m\"\u001b[39m][\u001b[33m\"\u001b[39m\u001b[33maccumulated\u001b[39m\u001b[33m\"\u001b[39m] = data[\u001b[33m\"\u001b[39m\u001b[33mhistoricalWeather\u001b[39m\u001b[33m\"\u001b[39m][\n\u001b[32m    154\u001b[39m     \u001b[33m\"\u001b[39m\u001b[33msnowdepth\u001b[39m\u001b[33m\"\u001b[39m\n\u001b[32m    155\u001b[39m ]\n\u001b[32m    156\u001b[39m \u001b[38;5;66;03m# Pressure\u001b[39;00m\n",
      "\u001b[31mKeyError\u001b[39m: 'snow'"
     ]
    }
   ],
   "source": [
    "# Visual Crossing\n",
    "vscs_data = collect_visualcrossing(lat, lon)"
   ]
  },
  {
   "cell_type": "code",
   "execution_count": 3,
   "id": "e0f281e0-51f1-4ba2-8e9f-c21de7255d27",
   "metadata": {},
   "outputs": [],
   "source": [
    "# AccuWeather\n",
    "accuwx_data = collect_accuwx(lat, lon)"
   ]
  },
  {
   "cell_type": "code",
   "execution_count": 4,
   "id": "72c3d135-c097-46e7-a173-9cb66d6449b8",
   "metadata": {},
   "outputs": [],
   "source": [
    "# Tomorrow.io\n",
    "tomorrow_wx = collect_tomorrow(lat, lon)"
   ]
  },
  {
   "cell_type": "code",
   "execution_count": 5,
   "id": "a28c0635-0982-4401-b42d-8f1bf9b24303",
   "metadata": {},
   "outputs": [],
   "source": [
    "# OpenMeteo\n",
    "openmeteo_wx = collect_openmeteo(lat, lon)"
   ]
  },
  {
   "cell_type": "code",
   "execution_count": 6,
   "id": "d47339fe-87b8-49d7-a90f-f820327f289c",
   "metadata": {},
   "outputs": [],
   "source": [
    "# Aviation Weather\n",
    "aviawx_data = collect_aviationwx(icao)"
   ]
  },
  {
   "cell_type": "code",
   "execution_count": null,
   "id": "69de8937-4521-4418-9148-adbd01b2b0ea",
   "metadata": {},
   "outputs": [],
   "source": [
    "## Store data on Azure\n",
    "# store_wx_data(wx_id=\"tmrwio\", lat=lat, lon=lon)\n",
    "# store_wx_data(wx_id=\"openwx\", lat=lat, lon=lon)\n",
    "# tore_wx_data(wx_id=\"openmt\", lat=lat, lon=lon)"
   ]
  }
 ],
 "metadata": {
  "kernelspec": {
   "display_name": "RAVEN Environment",
   "language": "python",
   "name": "raven-env"
  },
  "language_info": {
   "codemirror_mode": {
    "name": "ipython",
    "version": 3
   },
   "file_extension": ".py",
   "mimetype": "text/x-python",
   "name": "python",
   "nbconvert_exporter": "python",
   "pygments_lexer": "ipython3",
   "version": "3.13.2"
  }
 },
 "nbformat": 4,
 "nbformat_minor": 5
}
