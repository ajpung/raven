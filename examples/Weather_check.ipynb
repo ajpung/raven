{
 "cells": [
  {
   "cell_type": "code",
   "execution_count": 1,
   "id": "3308bbd7-2dd2-4bfa-b64f-b0abd0425d67",
   "metadata": {},
   "outputs": [],
   "source": [
    "# test_weather.py\n",
    "from raven.modules.weather import collect_openmet_current\n",
    "from raven.modules.weather import collect_openwx\n",
    "from raven.modules.weather import collect_tomorrow\n",
    "from raven.modules.weather import collect_viscrs\n",
    "\n",
    "# Parameters\n",
    "lat, lon = 38.422508, -85.797633"
   ]
  },
  {
   "cell_type": "code",
   "execution_count": 2,
   "id": "72c3d135-c097-46e7-a173-9cb66d6449b8",
   "metadata": {},
   "outputs": [
    {
     "name": "stdout",
     "output_type": "stream",
     "text": [
      "{'data': {'time': '2025-02-24T12:11:00Z', 'values': {'cloudBase': None, 'cloudCeiling': None, 'cloudCover': 2, 'dewPoint': -3.4, 'freezingRainIntensity': 0, 'hailProbability': 60.7, 'hailSize': 4.69, 'humidity': 80, 'precipitationProbability': 0, 'pressureSeaLevel': 1016, 'pressureSurfaceLevel': 993, 'rainIntensity': 0, 'sleetIntensity': 0, 'snowIntensity': 0.0, 'temperature': -0.4, 'temperatureApparent': -3.9, 'uvHealthConcern': 0, 'uvIndex': 0, 'visibility': 16, 'weatherCode': 1000, 'windDirection': 185, 'windGust': 18.0, 'windSpeed': 10.44}}, 'location': {'lat': 38.422508, 'lon': -85.797633}}\n"
     ]
    }
   ],
   "source": [
    "# Tomorrow.io\n",
    "tmrw_data = collect_tomorrow(lat, lon)\n",
    "print(tmrw_data)"
   ]
  },
  {
   "cell_type": "code",
   "execution_count": 7,
   "id": "01db9e38-8ffe-458b-bff3-c642c077ad6a",
   "metadata": {},
   "outputs": [
    {
     "data": {
      "text/plain": [
       "0"
      ]
     },
     "execution_count": 7,
     "metadata": {},
     "output_type": "execute_result"
    }
   ],
   "source": [
    "tmrw_data[\"data\"][\"values\"][\"snowIntensity\"] / 10"
   ]
  },
  {
   "cell_type": "code",
   "execution_count": null,
   "id": "a28c0635-0982-4401-b42d-8f1bf9b24303",
   "metadata": {},
   "outputs": [],
   "source": [
    "# OpenMeteo\n",
    "opmt_data = collect_openmet_current(lat, lon)"
   ]
  },
  {
   "cell_type": "code",
   "execution_count": null,
   "id": "c027224f-9253-4cb3-a578-9977d6e1bf02",
   "metadata": {},
   "outputs": [],
   "source": [
    "# OpenWeatherMap\n",
    "opwx_data = collect_openwx(lat, lon)"
   ]
  },
  {
   "cell_type": "code",
   "execution_count": null,
   "id": "11893744-a445-4e37-a9cc-33b1d4918ca8",
   "metadata": {},
   "outputs": [],
   "source": [
    "# Visual Crossing\n",
    "vscs_data = collect_viscrs(lat, lon)"
   ]
  },
  {
   "cell_type": "code",
   "execution_count": null,
   "id": "69de8937-4521-4418-9148-adbd01b2b0ea",
   "metadata": {},
   "outputs": [],
   "source": [
    "# Store data on Azure\n",
    "store_wx_data(wx_id=\"tmrwio\", lat=lat, lon=lon)\n",
    "store_wx_data(wx_id=\"openwx\", lat=lat, lon=lon)\n",
    "tore_wx_data(wx_id=\"openmt\", lat=lat, lon=lon)"
   ]
  }
 ],
 "metadata": {
  "kernelspec": {
   "display_name": "RAVEN Environment",
   "language": "python",
   "name": "raven-env"
  },
  "language_info": {
   "codemirror_mode": {
    "name": "ipython",
    "version": 3
   },
   "file_extension": ".py",
   "mimetype": "text/x-python",
   "name": "python",
   "nbconvert_exporter": "python",
   "pygments_lexer": "ipython3",
   "version": "3.13.2"
  }
 },
 "nbformat": 4,
 "nbformat_minor": 5
}
