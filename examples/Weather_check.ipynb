{
 "cells": [
  {
   "cell_type": "code",
   "execution_count": 1,
   "id": "3308bbd7-2dd2-4bfa-b64f-b0abd0425d67",
   "metadata": {},
   "outputs": [],
   "source": [
    "# test_weather.py\n",
    "from raven.modules.weather import collect_tomorrow\n",
    "from raven.modules.weather import collect_openmeteo\n",
    "from raven.modules.weather import gather_visualcrossing\n",
    "\n",
    "# Parameters\n",
    "lat, lon = 38.422508, -85.797633"
   ]
  },
  {
   "cell_type": "code",
   "execution_count": 2,
   "id": "3f971143-f341-4a2e-95c9-f9fed3261c79",
   "metadata": {},
   "outputs": [
    {
     "name": "stdout",
     "output_type": "stream",
     "text": [
      "{'status': 403, 'message': 'Unauthorized. Review your account access settings in the customer console.'}\n"
     ]
    }
   ],
   "source": [
    "# Synoptic data\n",
    "from raven.modules.weather import gather_synoptic\n",
    "\n",
    "data = gather_synoptic(lat, lon)\n",
    "print(data)"
   ]
  },
  {
   "cell_type": "code",
   "execution_count": 2,
   "id": "11893744-a445-4e37-a9cc-33b1d4918ca8",
   "metadata": {},
   "outputs": [
    {
     "name": "stdout",
     "output_type": "stream",
     "text": [
      "{'queryCost': 1, 'latitude': 38.422508, 'longitude': -85.797633, 'resolvedAddress': '38.422508,-85.797633', 'address': '38.422508,-85.797633', 'timezone': 'Z', 'tzoffset': 0.0, 'days': [{'datetime': '2025-03-04', 'temp': 11.6, 'dew': -3.9, 'humidity': 34.6, 'precip': 0.0, 'snow': 0.0, 'snowdepth': 0.0, 'windgust': 51.8, 'windspeed': 25.9, 'winddir': 162.0, 'pressure': 1013.1, 'cloudcover': 40.0, 'visibility': 16.1, 'solarradiation': 138.3, 'solarenergy': 11.9, 'uvindex': 5.0, 'sunrise': '12:10:24', 'sunset': '23:39:51', 'moonphase': 0.16, 'conditions': 'Partially cloudy', 'icon': 'partly-cloudy-day'}], 'currentConditions': {'datetime': '12:15:00', 'temp': 8.7, 'humidity': 42.1, 'dew': -3.4, 'precip': 0.0, 'snow': 0.0, 'snowdepth': 0.0, 'windgust': 14.9, 'windspeed': 7.4, 'winddir': 174.0, 'pressure': 996.0, 'visibility': 16.0, 'cloudcover': 25.0, 'solarradiation': 0.0, 'solarenergy': 0.0, 'uvindex': 0.0, 'cape': None, 'cin': None, 'conditions': 'Partially cloudy', 'icon': 'partly-cloudy-day', 'sunrise': '12:10:24', 'sunset': '23:39:51', 'moonphase': 0.16}}\n"
     ]
    }
   ],
   "source": [
    "# Visual Crossing\n",
    "vscs_data = gather_visualcrossing(lat, lon)\n",
    "print(vscs_data)"
   ]
  },
  {
   "cell_type": "code",
   "execution_count": 2,
   "id": "72c3d135-c097-46e7-a173-9cb66d6449b8",
   "metadata": {},
   "outputs": [],
   "source": [
    "# Tomorrow.io\n",
    "tomorrow_wx = collect_tomorrow(lat, lon)"
   ]
  },
  {
   "cell_type": "code",
   "execution_count": 3,
   "id": "a28c0635-0982-4401-b42d-8f1bf9b24303",
   "metadata": {},
   "outputs": [],
   "source": [
    "# OpenMeteo\n",
    "openmeteo_wx = collect_openmeteo(lat, lon)"
   ]
  },
  {
   "cell_type": "code",
   "execution_count": null,
   "id": "c027224f-9253-4cb3-a578-9977d6e1bf02",
   "metadata": {},
   "outputs": [],
   "source": [
    "# OpenWeatherMap\n",
    "opwx_data = collect_openwx(lat, lon)"
   ]
  },
  {
   "cell_type": "code",
   "execution_count": null,
   "id": "69de8937-4521-4418-9148-adbd01b2b0ea",
   "metadata": {},
   "outputs": [],
   "source": [
    "# Store data on Azure\n",
    "store_wx_data(wx_id=\"tmrwio\", lat=lat, lon=lon)\n",
    "store_wx_data(wx_id=\"openwx\", lat=lat, lon=lon)\n",
    "tore_wx_data(wx_id=\"openmt\", lat=lat, lon=lon)"
   ]
  }
 ],
 "metadata": {
  "kernelspec": {
   "display_name": "Python 3 (ipykernel)",
   "language": "python",
   "name": "python3"
  },
  "language_info": {
   "codemirror_mode": {
    "name": "ipython",
    "version": 3
   },
   "file_extension": ".py",
   "mimetype": "text/x-python",
   "name": "python",
   "nbconvert_exporter": "python",
   "pygments_lexer": "ipython3",
   "version": "3.13.2"
  }
 },
 "nbformat": 4,
 "nbformat_minor": 5
}
