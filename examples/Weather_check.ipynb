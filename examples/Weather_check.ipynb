{
 "cells": [
  {
   "cell_type": "code",
   "execution_count": 1,
   "id": "3308bbd7-2dd2-4bfa-b64f-b0abd0425d67",
   "metadata": {},
   "outputs": [],
   "source": [
    "from raven.modules.weather.collection import collect_tomorrow\n",
    "from raven.modules.weather.collection import collect_openwx\n",
    "from raven.modules.weather.collection import collect_openmt\n",
    "\n",
    "# Parameters\n",
    "lat,lon = 38.422508,-85.797633"
   ]
  },
  {
   "cell_type": "code",
   "execution_count": 2,
   "id": "72c3d135-c097-46e7-a173-9cb66d6449b8",
   "metadata": {},
   "outputs": [
    {
     "name": "stdout",
     "output_type": "stream",
     "text": [
      "{'data': {'time': '2025-02-20T13:09:00Z', 'values': {'cloudBase': 0.3, 'cloudCeiling': None, 'cloudCover': 25, 'dewPoint': -16.9, 'freezingRainIntensity': 0, 'hailProbability': 50.4, 'hailSize': 7.93, 'humidity': 83, 'precipitationProbability': 0, 'pressureSeaLevel': 1032, 'pressureSurfaceLevel': 1007, 'rainIntensity': 0, 'sleetIntensity': 0, 'snowIntensity': 0, 'temperature': -14.7, 'temperatureApparent': -22.5, 'uvHealthConcern': 0, 'uvIndex': 0, 'visibility': 16, 'weatherCode': 1100, 'windDirection': 305, 'windGust': 9.5, 'windSpeed': 4.1}}, 'location': {'lat': 38.422508, 'lon': -85.797633}}\n"
     ]
    }
   ],
   "source": [
    "# Tomorrow.io\n",
    "tmrw_data = collect_tomorrow(lat,lon)\n",
    "print(tmrw_data)"
   ]
  },
  {
   "cell_type": "code",
   "execution_count": 3,
   "id": "c027224f-9253-4cb3-a578-9977d6e1bf02",
   "metadata": {},
   "outputs": [
    {
     "name": "stdout",
     "output_type": "stream",
     "text": [
      "{'coord': {'lon': -85.7976, 'lat': 38.4225}, 'weather': [{'id': 803, 'main': 'Clouds', 'description': 'broken clouds', 'icon': '04d'}], 'base': 'stations', 'main': {'temp': 260.66, 'feels_like': 260.66, 'temp_min': 260.29, 'temp_max': 261.49, 'pressure': 1032, 'humidity': 81, 'sea_level': 1032, 'grnd_level': 1006}, 'visibility': 10000, 'wind': {'speed': 0.45, 'deg': 282, 'gust': 2.24}, 'clouds': {'all': 65}, 'dt': 1740056637, 'sys': {'type': 2, 'id': 2046530, 'country': 'US', 'sunrise': 1740054444, 'sunset': 1740094002}, 'timezone': -18000, 'id': 4264598, 'name': 'Sellersburg', 'cod': 200}\n"
     ]
    }
   ],
   "source": [
    "# OpenWeatherMap\n",
    "opwx_data = collect_openwx(lat,lon)\n",
    "print(opwx_data)"
   ]
  },
  {
   "cell_type": "code",
   "execution_count": 4,
   "id": "a28c0635-0982-4401-b42d-8f1bf9b24303",
   "metadata": {},
   "outputs": [
    {
     "name": "stdout",
     "output_type": "stream",
     "text": [
      "{'temperature': -12.98449993133545, 'relative_humidity': 80.0, 'apparent_temperature': -18.472227096557617, 'is_day': 0.0, 'precipitation': 0.0, 'rain': 0.0, 'showers': 0.0, 'snowfall': 0.0, 'wx_code': 0.0, 'cloud_cover': 15.0, 'pressure_msl': 1030.800048828125, 'surface_pressure': 1007.9605102539062, 'wind_speed_10m': 12.783802032470703, 'wind_direction_10m': 302.347412109375, 'wind_gusts_10m': 31.319997787475586}\n"
     ]
    }
   ],
   "source": [
    "# OpenMeteo\n",
    "opmt_data = collect_openmt(lat,lon)\n",
    "print(opmt_data)"
   ]
  },
  {
   "cell_type": "code",
   "execution_count": null,
   "id": "11893744-a445-4e37-a9cc-33b1d4918ca8",
   "metadata": {},
   "outputs": [],
   "source": []
  }
 ],
 "metadata": {
  "kernelspec": {
   "display_name": "RAVEN Environment",
   "language": "python",
   "name": "raven-env"
  },
  "language_info": {
   "codemirror_mode": {
    "name": "ipython",
    "version": 3
   },
   "file_extension": ".py",
   "mimetype": "text/x-python",
   "name": "python",
   "nbconvert_exporter": "python",
   "pygments_lexer": "ipython3",
   "version": "3.13.2"
  }
 },
 "nbformat": 4,
 "nbformat_minor": 5
}
