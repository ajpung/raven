{
 "cells": [
  {
   "cell_type": "code",
   "execution_count": 1,
   "id": "3308bbd7-2dd2-4bfa-b64f-b0abd0425d67",
   "metadata": {},
   "outputs": [],
   "source": [
    "# test_weather.py\n",
    "from raven.modules.weather import collect_openmet_current\n",
    "from raven.modules.weather import collect_openwx\n",
    "from raven.modules.weather import collect_tomorrow\n",
    "from raven.modules.weather import collect_viscrs\n",
    "\n",
    "# Parameters\n",
    "lat, lon = 38.422508, -85.797633"
   ]
  },
  {
   "cell_type": "code",
   "execution_count": 2,
   "id": "72c3d135-c097-46e7-a173-9cb66d6449b8",
   "metadata": {},
   "outputs": [
    {
     "name": "stdout",
     "output_type": "stream",
     "text": [
      "{'data': {'time': '2025-02-22T20:04:00Z', 'values': {'cloudBase': None, 'cloudCeiling': None, 'cloudCover': 8, 'dewPoint': -5.4, 'freezingRainIntensity': 0, 'hailProbability': 37.4, 'hailSize': 2.17, 'humidity': 60, 'precipitationProbability': 0, 'pressureSeaLevel': 1026, 'pressureSurfaceLevel': 1004, 'rainIntensity': 0, 'sleetIntensity': 0, 'snowIntensity': 0, 'temperature': 1.6, 'temperatureApparent': -1.7, 'uvHealthConcern': 1, 'uvIndex': 2, 'visibility': 16, 'weatherCode': 1000, 'windDirection': 269, 'windGust': 4.8, 'windSpeed': 3.2}}, 'location': {'lat': 38.422508, 'lon': -85.797633}}\n"
     ]
    }
   ],
   "source": [
    "# Tomorrow.io\n",
    "tmrw_data = collect_tomorrow(lat, lon)\n",
    "print(tmrw_data)"
   ]
  },
  {
   "cell_type": "code",
   "execution_count": 3,
   "id": "a28c0635-0982-4401-b42d-8f1bf9b24303",
   "metadata": {},
   "outputs": [
    {
     "name": "stdout",
     "output_type": "stream",
     "text": [
      "{'temperature': 1.5155000686645508, 'relative_humidity': 62.0, 'apparent_temperature': -2.3911194801330566, 'is_day': 1.0, 'precipitation': 0.0, 'rain': 0.0, 'showers': 0.0, 'snowfall': 0.0, 'wx_code': 0.0, 'cloud_cover': 3.0, 'pressure_msl': 1026.5, 'surface_pressure': 1004.9414672851562, 'wind_speed_10m': 10.853865623474121, 'wind_direction_10m': 264.28948974609375, 'wind_gusts_10m': 18.35999870300293}\n"
     ]
    }
   ],
   "source": [
    "# OpenMeteo\n",
    "opmt_data = collect_openmet_current(lat, lon)\n",
    "print(opmt_data)"
   ]
  },
  {
   "cell_type": "code",
   "execution_count": 4,
   "id": "c027224f-9253-4cb3-a578-9977d6e1bf02",
   "metadata": {},
   "outputs": [
    {
     "name": "stdout",
     "output_type": "stream",
     "text": [
      "{'coord': {'lon': -85.7976, 'lat': 38.4225}, 'weather': [{'id': 803, 'main': 'Clouds', 'description': 'broken clouds', 'icon': '04d'}], 'base': 'stations', 'main': {'temp': 276.37, 'feels_like': 273.2, 'temp_min': 275.18, 'temp_max': 276.57, 'pressure': 1027, 'humidity': 55, 'sea_level': 1027, 'grnd_level': 1003}, 'visibility': 10000, 'wind': {'speed': 3.42, 'deg': 234, 'gust': 4.99}, 'clouds': {'all': 81}, 'dt': 1740254662, 'sys': {'type': 2, 'id': 2016362, 'country': 'US', 'sunrise': 1740227086, 'sunset': 1740266932}, 'timezone': -18000, 'id': 4264598, 'name': 'Sellersburg', 'cod': 200}\n"
     ]
    }
   ],
   "source": [
    "# OpenWeatherMap\n",
    "opwx_data = collect_openwx(lat, lon)\n",
    "print(opwx_data)"
   ]
  },
  {
   "cell_type": "code",
   "execution_count": 5,
   "id": "11893744-a445-4e37-a9cc-33b1d4918ca8",
   "metadata": {},
   "outputs": [
    {
     "name": "stdout",
     "output_type": "stream",
     "text": [
      "{'queryCost': 1, 'latitude': 38.422508, 'longitude': -85.797633, 'resolvedAddress': '38.422508, -85.797633', 'address': '38.422508, -85.797633', 'timezone': 'America/Kentucky/Louisville', 'tzoffset': -5.0, 'days': [{'datetime': '2025-02-22', 'datetimeEpoch': 1740200400, 'tempmax': 2.5, 'tempmin': -7.1, 'temp': -2.7, 'feelslikemax': -0.8, 'feelslikemin': -9.8, 'feelslike': -5.0, 'dew': -8.1, 'humidity': 67.2, 'precip': 0.0, 'precipprob': 1.0, 'precipcover': 0.0, 'preciptype': None, 'snow': 0.0, 'snowdepth': 1.3, 'windgust': 16.6, 'windspeed': 12.2, 'winddir': 218.9, 'pressure': 1029.7, 'cloudcover': 29.8, 'visibility': 16.1, 'solarradiation': 149.3, 'solarenergy': 12.9, 'uvindex': 6.0, 'severerisk': 10.0, 'sunrise': '07:24:26', 'sunriseEpoch': 1740227066, 'sunset': '18:29:26', 'sunsetEpoch': 1740266966, 'moonphase': 0.83, 'conditions': 'Partially cloudy', 'description': 'Partly cloudy throughout the day.', 'icon': 'partly-cloudy-day', 'stations': ['KFTK', 'KLOU', 'AU953', 'KSDF'], 'source': 'comb'}, {'datetime': '2025-02-23', 'datetimeEpoch': 1740286800, 'tempmax': 6.7, 'tempmin': -6.1, 'temp': 0.4, 'feelslikemax': 4.4, 'feelslikemin': -8.8, 'feelslike': -1.2, 'dew': -4.0, 'humidity': 73.2, 'precip': 0.0, 'precipprob': 0.0, 'precipcover': 0.0, 'preciptype': None, 'snow': 0.0, 'snowdepth': 0.0, 'windgust': 20.5, 'windspeed': 11.2, 'winddir': 208.3, 'pressure': 1022.8, 'cloudcover': 12.5, 'visibility': 16.2, 'solarradiation': 182.1, 'solarenergy': 15.6, 'uvindex': 6.0, 'severerisk': 10.0, 'sunrise': '07:23:06', 'sunriseEpoch': 1740313386, 'sunset': '18:30:30', 'sunsetEpoch': 1740353430, 'moonphase': 0.86, 'conditions': 'Clear', 'description': 'Clear conditions throughout the day.', 'icon': 'clear-day', 'stations': None, 'source': 'fcst'}, {'datetime': '2025-02-24', 'datetimeEpoch': 1740373200, 'tempmax': 12.3, 'tempmin': -1.1, 'temp': 4.9, 'feelslikemax': 12.3, 'feelslikemin': -4.5, 'feelslike': 2.7, 'dew': 0.7, 'humidity': 75.4, 'precip': 0.0, 'precipprob': 3.0, 'precipcover': 0.0, 'preciptype': None, 'snow': 0.0, 'snowdepth': 0.6, 'windgust': 33.5, 'windspeed': 18.4, 'winddir': 207.8, 'pressure': 1015.8, 'cloudcover': 39.2, 'visibility': 16.3, 'solarradiation': 201.0, 'solarenergy': 17.3, 'uvindex': 5.0, 'severerisk': 10.0, 'sunrise': '07:21:44', 'sunriseEpoch': 1740399704, 'sunset': '18:31:33', 'sunsetEpoch': 1740439893, 'moonphase': 0.89, 'conditions': 'Partially cloudy', 'description': 'Partly cloudy throughout the day.', 'icon': 'partly-cloudy-day', 'stations': None, 'source': 'fcst'}, {'datetime': '2025-02-25', 'datetimeEpoch': 1740459600, 'tempmax': 14.3, 'tempmin': 4.2, 'temp': 8.3, 'feelslikemax': 14.3, 'feelslikemin': 2.0, 'feelslike': 7.2, 'dew': 4.8, 'humidity': 79.2, 'precip': 1.1, 'precipprob': 17.0, 'precipcover': 8.33, 'preciptype': ['rain'], 'snow': 0.0, 'snowdepth': 0.2, 'windgust': 22.7, 'windspeed': 11.5, 'winddir': 243.4, 'pressure': 1011.3, 'cloudcover': 39.6, 'visibility': 19.6, 'solarradiation': 194.0, 'solarenergy': 16.8, 'uvindex': 6.0, 'severerisk': 10.0, 'sunrise': '07:20:22', 'sunriseEpoch': 1740486022, 'sunset': '18:32:37', 'sunsetEpoch': 1740526357, 'moonphase': 0.92, 'conditions': 'Partially cloudy', 'description': 'Partly cloudy throughout the day.', 'icon': 'partly-cloudy-day', 'stations': None, 'source': 'fcst'}, {'datetime': '2025-02-26', 'datetimeEpoch': 1740546000, 'tempmax': 15.0, 'tempmin': 4.2, 'temp': 9.1, 'feelslikemax': 15.0, 'feelslikemin': 2.8, 'feelslike': 8.6, 'dew': 6.1, 'humidity': 82.3, 'precip': 0.3, 'precipprob': 42.0, 'precipcover': 4.17, 'preciptype': ['rain'], 'snow': 0.0, 'snowdepth': 0.0, 'windgust': 24.1, 'windspeed': 13.3, 'winddir': 224.1, 'pressure': 1013.0, 'cloudcover': 61.3, 'visibility': 23.4, 'solarradiation': 162.8, 'solarenergy': 14.1, 'uvindex': 5.0, 'severerisk': 10.0, 'sunrise': '07:18:58', 'sunriseEpoch': 1740572338, 'sunset': '18:33:40', 'sunsetEpoch': 1740612820, 'moonphase': 0.96, 'conditions': 'Partially cloudy', 'description': 'Partly cloudy throughout the day.', 'icon': 'partly-cloudy-day', 'stations': None, 'source': 'fcst'}, {'datetime': '2025-02-27', 'datetimeEpoch': 1740632400, 'tempmax': 9.1, 'tempmin': 3.6, 'temp': 6.1, 'feelslikemax': 6.7, 'feelslikemin': 0.6, 'feelslike': 3.5, 'dew': 2.2, 'humidity': 77.0, 'precip': 6.7, 'precipprob': 43.0, 'precipcover': 12.5, 'preciptype': ['rain'], 'snow': 0.0, 'snowdepth': 0.0, 'windgust': 27.4, 'windspeed': 16.2, 'winddir': 307.5, 'pressure': 1016.9, 'cloudcover': 62.2, 'visibility': 24.1, 'solarradiation': 126.1, 'solarenergy': 10.7, 'uvindex': 4.0, 'severerisk': 10.0, 'sunrise': '07:17:34', 'sunriseEpoch': 1740658654, 'sunset': '18:34:42', 'sunsetEpoch': 1740699282, 'moonphase': 0.0, 'conditions': 'Partially cloudy', 'description': 'Partly cloudy throughout the day.', 'icon': 'partly-cloudy-day', 'stations': None, 'source': 'fcst'}, {'datetime': '2025-02-28', 'datetimeEpoch': 1740718800, 'tempmax': 10.2, 'tempmin': 0.2, 'temp': 5.1, 'feelslikemax': 10.2, 'feelslikemin': -2.7, 'feelslike': 2.8, 'dew': -0.3, 'humidity': 69.6, 'precip': 0.8, 'precipprob': 13.0, 'precipcover': 8.33, 'preciptype': ['rain'], 'snow': 0.0, 'snowdepth': 0.0, 'windgust': 25.6, 'windspeed': 14.4, 'winddir': 263.9, 'pressure': 1017.5, 'cloudcover': 33.9, 'visibility': 24.1, 'solarradiation': 203.5, 'solarenergy': 17.7, 'uvindex': 6.0, 'severerisk': 10.0, 'sunrise': '07:16:10', 'sunriseEpoch': 1740744970, 'sunset': '18:35:44', 'sunsetEpoch': 1740785744, 'moonphase': 0.02, 'conditions': 'Partially cloudy', 'description': 'Partly cloudy throughout the day.', 'icon': 'partly-cloudy-day', 'stations': None, 'source': 'fcst'}, {'datetime': '2025-03-01', 'datetimeEpoch': 1740805200, 'tempmax': 11.8, 'tempmin': 4.2, 'temp': 7.3, 'feelslikemax': 11.8, 'feelslikemin': 1.6, 'feelslike': 5.3, 'dew': 1.0, 'humidity': 64.9, 'precip': 1.6, 'precipprob': 23.0, 'precipcover': 12.5, 'preciptype': ['rain'], 'snow': 0.0, 'snowdepth': 0.0, 'windgust': 33.1, 'windspeed': 19.1, 'winddir': 250.6, 'pressure': 1010.2, 'cloudcover': 51.8, 'visibility': 24.1, 'solarradiation': 199.9, 'solarenergy': 17.1, 'uvindex': 6.0, 'severerisk': 10.0, 'sunrise': '07:14:44', 'sunriseEpoch': 1740831284, 'sunset': '18:36:46', 'sunsetEpoch': 1740872206, 'moonphase': 0.06, 'conditions': 'Partially cloudy', 'description': 'Partly cloudy throughout the day.', 'icon': 'partly-cloudy-day', 'stations': None, 'source': 'fcst'}, {'datetime': '2025-03-02', 'datetimeEpoch': 1740891600, 'tempmax': 6.3, 'tempmin': -0.7, 'temp': 2.4, 'feelslikemax': 4.1, 'feelslikemin': -4.0, 'feelslike': -0.4, 'dew': -4.9, 'humidity': 60.0, 'precip': 0.3, 'precipprob': 29.0, 'precipcover': 4.17, 'preciptype': ['rain', 'snow'], 'snow': 0.0, 'snowdepth': 0.0, 'windgust': 29.5, 'windspeed': 14.4, 'winddir': 341.1, 'pressure': 1022.3, 'cloudcover': 38.5, 'visibility': 24.1, 'solarradiation': 186.4, 'solarenergy': 16.1, 'uvindex': 6.0, 'severerisk': 10.0, 'sunrise': '07:13:18', 'sunriseEpoch': 1740917598, 'sunset': '18:37:48', 'sunsetEpoch': 1740958668, 'moonphase': 0.09, 'conditions': 'Partially cloudy', 'description': 'Becoming cloudy in the afternoon.', 'icon': 'partly-cloudy-day', 'stations': None, 'source': 'fcst'}, {'datetime': '2025-03-03', 'datetimeEpoch': 1740978000, 'tempmax': 6.2, 'tempmin': -1.2, 'temp': 2.5, 'feelslikemax': 3.0, 'feelslikemin': -4.2, 'feelslike': -0.8, 'dew': -2.2, 'humidity': 72.6, 'precip': 4.0, 'precipprob': 6.5, 'precipcover': 4.17, 'preciptype': ['rain', 'snow'], 'snow': 0.0, 'snowdepth': 0.0, 'windgust': 44.6, 'windspeed': 16.6, 'winddir': 115.5, 'pressure': 1020.8, 'cloudcover': 86.5, 'visibility': 21.1, 'solarradiation': 82.1, 'solarenergy': 7.2, 'uvindex': 3.0, 'severerisk': 10.0, 'sunrise': '07:11:51', 'sunriseEpoch': 1741003911, 'sunset': '18:38:50', 'sunsetEpoch': 1741045130, 'moonphase': 0.13, 'conditions': 'Partially cloudy', 'description': 'Partly cloudy throughout the day.', 'icon': 'partly-cloudy-day', 'stations': None, 'source': 'fcst'}, {'datetime': '2025-03-04', 'datetimeEpoch': 1741064400, 'tempmax': 9.4, 'tempmin': 4.3, 'temp': 6.4, 'feelslikemax': 8.5, 'feelslikemin': 1.5, 'feelslike': 4.6, 'dew': 4.6, 'humidity': 88.4, 'precip': 2.7, 'precipprob': 25.8, 'precipcover': 8.33, 'preciptype': ['rain'], 'snow': 0.0, 'snowdepth': 0.0, 'windgust': 37.8, 'windspeed': 11.5, 'winddir': 286.8, 'pressure': 1014.8, 'cloudcover': 99.9, 'visibility': 18.2, 'solarradiation': 67.9, 'solarenergy': 6.0, 'uvindex': 3.0, 'severerisk': 10.0, 'sunrise': '07:10:24', 'sunriseEpoch': 1741090224, 'sunset': '18:39:51', 'sunsetEpoch': 1741131591, 'moonphase': 0.16, 'conditions': 'Overcast', 'description': 'Cloudy skies throughout the day.', 'icon': 'cloudy', 'stations': None, 'source': 'fcst'}, {'datetime': '2025-03-05', 'datetimeEpoch': 1741150800, 'tempmax': 5.6, 'tempmin': -0.8, 'temp': 3.3, 'feelslikemax': 3.8, 'feelslikemin': -6.8, 'feelslike': -0.7, 'dew': 1.9, 'humidity': 90.5, 'precip': 7.9, 'precipprob': 35.5, 'precipcover': 8.33, 'preciptype': ['rain', 'snow'], 'snow': 0.9, 'snowdepth': 0.3, 'windgust': 56.2, 'windspeed': 25.9, 'winddir': 19.0, 'pressure': 1011.6, 'cloudcover': 92.3, 'visibility': 15.1, 'solarradiation': 8.0, 'solarenergy': 0.6, 'uvindex': 0.0, 'severerisk': 10.0, 'sunrise': '07:08:56', 'sunriseEpoch': 1741176536, 'sunset': '18:40:52', 'sunsetEpoch': 1741218052, 'moonphase': 0.2, 'conditions': 'Overcast', 'description': 'Cloudy skies throughout the day.', 'icon': 'cloudy', 'stations': None, 'source': 'fcst'}, {'datetime': '2025-03-06', 'datetimeEpoch': 1741237200, 'tempmax': 3.8, 'tempmin': -4.5, 'temp': -0.9, 'feelslikemax': 0.4, 'feelslikemin': -10.4, 'feelslike': -5.5, 'dew': -7.4, 'humidity': 63.8, 'precip': 2.8, 'precipprob': 29.0, 'precipcover': 12.5, 'preciptype': ['rain', 'snow'], 'snow': 1.3, 'snowdepth': 0.2, 'windgust': 46.8, 'windspeed': 22.7, 'winddir': 339.3, 'pressure': 1021.8, 'cloudcover': 38.6, 'visibility': 24.1, 'solarradiation': 204.1, 'solarenergy': 17.7, 'uvindex': 7.0, 'severerisk': 10.0, 'sunrise': '07:07:27', 'sunriseEpoch': 1741262847, 'sunset': '18:41:52', 'sunsetEpoch': 1741304512, 'moonphase': 0.25, 'conditions': 'Partially cloudy', 'description': 'Partly cloudy throughout the day.', 'icon': 'partly-cloudy-day', 'stations': None, 'source': 'fcst'}, {'datetime': '2025-03-07', 'datetimeEpoch': 1741323600, 'tempmax': 6.0, 'tempmin': -2.4, 'temp': 0.9, 'feelslikemax': 2.5, 'feelslikemin': -4.5, 'feelslike': -1.8, 'dew': -6.4, 'humidity': 59.8, 'precip': 0.0, 'precipprob': 19.4, 'precipcover': 0.0, 'preciptype': None, 'snow': 0.0, 'snowdepth': 0.1, 'windgust': 24.1, 'windspeed': 18.0, 'winddir': 299.1, 'pressure': 1025.8, 'cloudcover': 62.7, 'visibility': 24.1, 'solarradiation': 194.4, 'solarenergy': 16.9, 'uvindex': 7.0, 'severerisk': 10.0, 'sunrise': '07:05:58', 'sunriseEpoch': 1741349158, 'sunset': '18:42:52', 'sunsetEpoch': 1741390972, 'moonphase': 0.27, 'conditions': 'Partially cloudy', 'description': 'Partly cloudy throughout the day.', 'icon': 'partly-cloudy-day', 'stations': None, 'source': 'fcst'}, {'datetime': '2025-03-08', 'datetimeEpoch': 1741410000, 'tempmax': 5.0, 'tempmin': -3.2, 'temp': 0.7, 'feelslikemax': 4.5, 'feelslikemin': -5.5, 'feelslike': -1.2, 'dew': -7.3, 'humidity': 56.9, 'precip': 0.0, 'precipprob': 22.6, 'precipcover': 0.0, 'preciptype': None, 'snow': 0.0, 'snowdepth': 0.0, 'windgust': 28.1, 'windspeed': 11.5, 'winddir': 108.3, 'pressure': 1027.0, 'cloudcover': 98.1, 'visibility': 21.9, 'solarradiation': 123.5, 'solarenergy': 10.7, 'uvindex': 5.0, 'severerisk': 10.0, 'sunrise': '07:04:29', 'sunriseEpoch': 1741435469, 'sunset': '18:43:52', 'sunsetEpoch': 1741477432, 'moonphase': 0.3, 'conditions': 'Overcast', 'description': 'Cloudy skies throughout the day.', 'icon': 'cloudy', 'stations': None, 'source': 'fcst'}], 'stations': {'KFTK': {'distance': 60090.0, 'latitude': 37.9, 'longitude': -85.97, 'useCount': 0, 'id': 'KFTK', 'name': 'KFTK', 'quality': 97, 'contribution': 0.0}, 'E0284': {'distance': 12046.0, 'latitude': 38.332, 'longitude': -85.873, 'useCount': 0, 'id': 'E0284', 'name': 'EW0284 Floyds Knobs IN US', 'quality': 0, 'contribution': 0.0}, 'KJVY': {'distance': 8106.0, 'latitude': 38.367, 'longitude': -85.738, 'useCount': 0, 'id': 'KJVY', 'name': 'Clark Regional Airport IN US NWS/FAA', 'quality': 0, 'contribution': 0.0}, 'KLOU': {'distance': 25148.0, 'latitude': 38.22, 'longitude': -85.67, 'useCount': 0, 'id': 'KLOU', 'name': 'KLOU', 'quality': 100, 'contribution': 0.0}, 'AU953': {'distance': 12718.0, 'latitude': 38.311, 'longitude': -85.83, 'useCount': 0, 'id': 'AU953', 'name': 'N9OKI New Albany IN US', 'quality': 0, 'contribution': 0.0}, 'KSDF': {'distance': 27635.0, 'latitude': 38.18, 'longitude': -85.73, 'useCount': 0, 'id': 'KSDF', 'name': 'KSDF', 'quality': 100, 'contribution': 0.0}, 'IN018': {'distance': 17654.0, 'latitude': 38.269, 'longitude': -85.746, 'useCount': 0, 'id': 'IN018', 'name': 'Jeffersonville IN US INDOT', 'quality': 0, 'contribution': 0.0}}, 'currentConditions': {'datetime': '14:45:00', 'datetimeEpoch': 1740253500, 'temp': 3.4, 'feelslike': 1.4, 'humidity': 50.2, 'dew': -6.0, 'precip': 0.0, 'precipprob': 0.0, 'snow': 0.0, 'snowdepth': 0.0, 'preciptype': None, 'windgust': 14.0, 'windspeed': 7.6, 'winddir': 276.0, 'pressure': 1009.0, 'visibility': 16.0, 'cloudcover': 0.0, 'solarradiation': 562.0, 'solarenergy': 2.0, 'uvindex': 6.0, 'conditions': 'Clear', 'icon': 'clear-day', 'stations': ['E0284', 'KJVY', 'AU953', 'IN018'], 'source': 'obs', 'sunrise': '07:24:26', 'sunriseEpoch': 1740227066, 'sunset': '18:29:26', 'sunsetEpoch': 1740266966, 'moonphase': 0.83}}\n"
     ]
    }
   ],
   "source": [
    "# Visual Crossing\n",
    "vscs_data = collect_viscrs(lat, lon)\n",
    "print(vscs_data)"
   ]
  },
  {
   "cell_type": "code",
   "execution_count": null,
   "id": "69de8937-4521-4418-9148-adbd01b2b0ea",
   "metadata": {},
   "outputs": [],
   "source": []
  }
 ],
 "metadata": {
  "kernelspec": {
   "display_name": "RAVEN Environment",
   "language": "python",
   "name": "raven-env"
  },
  "language_info": {
   "codemirror_mode": {
    "name": "ipython",
    "version": 3
   },
   "file_extension": ".py",
   "mimetype": "text/x-python",
   "name": "python",
   "nbconvert_exporter": "python",
   "pygments_lexer": "ipython3",
   "version": "3.13.2"
  }
 },
 "nbformat": 4,
 "nbformat_minor": 5
}
