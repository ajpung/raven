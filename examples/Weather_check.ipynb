{
 "cells": [
  {
   "cell_type": "code",
   "execution_count": 1,
   "id": "3308bbd7-2dd2-4bfa-b64f-b0abd0425d67",
   "metadata": {},
   "outputs": [],
   "source": [
    "# test_weather.py\n",
    "from raven.modules.weather import collect_tomorrow\n",
    "from raven.modules.weather import collect_openmeteo\n",
    "from raven.modules.weather import gather_visualcrossing\n",
    "\n",
    "# Parameters\n",
    "lat, lon = 38.422508, -85.797633"
   ]
  },
  {
   "cell_type": "code",
   "execution_count": 2,
   "id": "d47339fe-87b8-49d7-a90f-f820327f289c",
   "metadata": {},
   "outputs": [
    {
     "name": "stdout",
     "output_type": "stream",
     "text": [
      "{'datetime': {'date': '2025-03-11', 'time': '20:12:00', 'utc_epoch': None, 'epoch': 1741738320}, 'location': {'latitude': None, 'longitude': None, 'altitude': 146.0, 'name': None, 'country': None, 'latitutde': 38.398, 'longitutde': -85.755}, 'data': {'model': None, 'code': None, 'clouds': {'base': None, 'ceiling': 12.192, 'altitude': None, 'cover': 0, 'tabulated': {'heights': None, 'values': None}}, 'energy': {'conv_avail_pot': None, 'conv_inhibition': None, 'lifted_index': None, 'bndry_layer_height': None}, 'health': {'uv_concern': None, 'uv_index': 0}, 'moon': {'phase': None, 'moonrise': None, 'moonset': None}, 'particulates': {'species': None, 'pollutant': None, 'matter': None}, 'precipitation': {'rain': {'intensity': None, 'probability': None, 'accumulated': 0.0, 'frz_rain_int': None}, 'snow': {'intensity': None, 'probability': None, 'accumulated': None}, 'sleet': {'intensity': None, 'probability': None, 'accumulated': None}, 'ice': {'intensity': None, 'probability': None, 'accumulated': None}, 'hail': {'intensity': None, 'probability': None, 'accumulated': None, 'size': None}, 'evapotranspiration': None, 'probability': None}, 'pressure': {'geopotential': {'heights': None, 'values': None}, 'sea_level': 1007.4, 'surface': None, 'vapor_pressure': None, 'vapor_pressure_deficit': None}, 'radiation': {'cape': None, 'convective_inhibition': None, 'diffuse': None, 'direct': None, 'global_tilted': None, 'global_horizontal': None, 'shortwave': None, 'terrestrial': None}, 'soil': {'moisture': {'tabulated': {'depth': None, 'values': None}}, 'temperature': {'tabulated': {'depth': None, 'values': None}}}, 'sun': {'sunrise': None, 'sunset': None, 'duration': None}, 'temperature': {'tabulated': {'heights': None, 'values': None}, 'measured': 20.2, 'apparent': 19.2, 'dewpoint': 1.9, 'humidity': 30, 'wetbulb': 10.8}, 'visibility': 17.7, 'wind': {'speed': 5.3, 'gust': 11.3, 'direction': 225}, 'waves': {'height': None, 'direction': None, 'period': None}}}\n"
     ]
    }
   ],
   "source": [
    "from raven.modules.weather import collect_accuwx\n",
    "\n",
    "accuwx_data = collect_accuwx(lat, lon)\n",
    "print(accuwx_data)"
   ]
  },
  {
   "cell_type": "code",
   "execution_count": null,
   "id": "3f971143-f341-4a2e-95c9-f9fed3261c79",
   "metadata": {},
   "outputs": [],
   "source": [
    "# Synoptic data\n",
    "from raven.modules.weather import gather_synoptic\n",
    "\n",
    "data = gather_synoptic(lat, lon)\n",
    "print(data)"
   ]
  },
  {
   "cell_type": "code",
   "execution_count": null,
   "id": "523e986a-93da-4d9e-9543-a4b7ecbefb92",
   "metadata": {},
   "outputs": [],
   "source": [
    "\"\"\"\n",
    "import urllib.request as req\n",
    "import os.path\n",
    "import json\n",
    "\n",
    "API_ROOT = \"https://api.synopticdata.com/v2/stations/latest?token=48d10eb57edf4cfe9436036b959b99b4&stid=KLAX\"\n",
    "API_TOKEN = \"48d10eb57edf4cfe9436036b959b99b4\"\n",
    "# let's get some latest data\n",
    "api_request_url = os.path.join(API_ROOT, \"stations/latest\")\n",
    "# the built-in library requires us to specify the URL parameters directly\n",
    "api_request_url += \"?token={}&stid={}\".format(API_TOKEN, \"KLAX\")\n",
    "# Note, .format is a python method available to put values into strings\n",
    "# then we make the request\n",
    "response = req.urlopen(api_request_url, api_arguments)\n",
    "api_text_data = response.read()\n",
    "\"\"\""
   ]
  },
  {
   "cell_type": "code",
   "execution_count": null,
   "id": "11893744-a445-4e37-a9cc-33b1d4918ca8",
   "metadata": {},
   "outputs": [],
   "source": [
    "# Visual Crossing\n",
    "vscs_data = gather_visualcrossing(lat, lon)"
   ]
  },
  {
   "cell_type": "code",
   "execution_count": null,
   "id": "72c3d135-c097-46e7-a173-9cb66d6449b8",
   "metadata": {},
   "outputs": [],
   "source": [
    "# Tomorrow.io\n",
    "tomorrow_wx = collect_tomorrow(lat, lon)"
   ]
  },
  {
   "cell_type": "code",
   "execution_count": null,
   "id": "a28c0635-0982-4401-b42d-8f1bf9b24303",
   "metadata": {},
   "outputs": [],
   "source": [
    "# OpenMeteo\n",
    "openmeteo_wx = collect_openmeteo(lat, lon)"
   ]
  },
  {
   "cell_type": "code",
   "execution_count": null,
   "id": "c027224f-9253-4cb3-a578-9977d6e1bf02",
   "metadata": {},
   "outputs": [],
   "source": [
    "from raven.modules.weather import gather_accuwx\n",
    "\n",
    "accuwx_data = gather_accuwx(lat, lon)"
   ]
  },
  {
   "cell_type": "code",
   "execution_count": null,
   "id": "69de8937-4521-4418-9148-adbd01b2b0ea",
   "metadata": {},
   "outputs": [],
   "source": [
    "## Store data on Azure\n",
    "# store_wx_data(wx_id=\"tmrwio\", lat=lat, lon=lon)\n",
    "# store_wx_data(wx_id=\"openwx\", lat=lat, lon=lon)\n",
    "# tore_wx_data(wx_id=\"openmt\", lat=lat, lon=lon)"
   ]
  }
 ],
 "metadata": {
  "kernelspec": {
   "display_name": "RAVEN Environment",
   "language": "python",
   "name": "raven-env"
  },
  "language_info": {
   "codemirror_mode": {
    "name": "ipython",
    "version": 3
   },
   "file_extension": ".py",
   "mimetype": "text/x-python",
   "name": "python",
   "nbconvert_exporter": "python",
   "pygments_lexer": "ipython3",
   "version": "3.13.2"
  }
 },
 "nbformat": 4,
 "nbformat_minor": 5
}
