{
 "cells": [
  {
   "cell_type": "markdown",
   "id": "10354cd3-6ae5-4a3c-8423-63345d53ef0f",
   "metadata": {},
   "source": [
    "## Location analysis\n",
    "\n",
    "Ideally, the user specifies an LLA coordinate in the API. The coordinate is then compared to a list of NNNN METARs around the world, choosing the top 5 closest."
   ]
  },
  {
   "cell_type": "code",
   "execution_count": 4,
   "id": "b96002ab-ded6-49aa-9fc1-5ceda5232852",
   "metadata": {},
   "outputs": [
    {
     "name": "stdout",
     "output_type": "stream",
     "text": [
      "     IATA  Synop  Latitude  Longitude Elevation      Distance\n",
      "1342  1II            39.20     -86.02      214      23.202859\n",
      "1365  HBE            39.21     -86.02      216      24.301346\n",
      "1328  BMG            39.09     -86.37      257      35.405234\n",
      "1329  BAK            39.16     -85.54      200      42.357142\n",
      "1351  HFY            39.38     -86.05      251      43.351355\n",
      "...   ...    ...       ...        ...       ...           ...\n",
      "9366                -34.57     117.47       69   17880.459070\n",
      "9328       94610    -31.56     115.59       13   17900.700025\n",
      "9372                -31.55     115.57       12   17901.818193\n",
      "9294                -32.06     115.53       30   17932.154112\n",
      "9238  BQB           -33.41     115.24       17   18022.494865\n",
      "\n",
      "[9466 rows x 6 columns]\n"
     ]
    }
   ],
   "source": [
    "from raven.core.location import find_airport_distances\n",
    "\n",
    "lat, lon = 38.9933, -85.9803\n",
    "data_df = find_airport_distances(lat=lat, lon=lon)\n",
    "print(data_df)"
   ]
  },
  {
   "cell_type": "markdown",
   "id": "48379070-1a10-4784-8f6d-d9f9b39ad949",
   "metadata": {},
   "source": [
    "## Weather Collection\n",
    "\n",
    "Collected weather sources include modeled data and empirical data. Modeled data draws from Tomorrow.io, OpenMeteo, Visual Crossing, AccuWeather. Empirical data draws from Aviation Weather.\n",
    "\n",
    "Other powerful sources were considered, but are not used based on the lack of a free data tier. Those sources include Synoptic Data."
   ]
  },
  {
   "cell_type": "code",
   "execution_count": null,
   "id": "f71635d4-48be-4feb-ac7b-03d367f66f34",
   "metadata": {},
   "outputs": [],
   "source": [
    "# test_weather.py\n",
    "from raven.modules.weather import collect_tomorrow\n",
    "from raven.modules.weather import collect_openmeteo\n",
    "from raven.modules.weather import collect_aviationwx\n",
    "from raven.modules.weather import gather_visualcrossing\n",
    "\n",
    "# Parameters\n",
    "lat, lon = 38.422508, -85.797633"
   ]
  },
  {
   "cell_type": "code",
   "execution_count": null,
   "id": "e0f281e0-51f1-4ba2-8e9f-c21de7255d27",
   "metadata": {},
   "outputs": [],
   "source": [
    "# AccuWeather\n",
    "from raven.modules.weather import collect_accuwx\n",
    "\n",
    "accuwx_data = collect_accuwx(lat, lon)"
   ]
  },
  {
   "cell_type": "code",
   "execution_count": null,
   "id": "11893744-a445-4e37-a9cc-33b1d4918ca8",
   "metadata": {},
   "outputs": [],
   "source": [
    "# Visual Crossing\n",
    "vscs_data = gather_visualcrossing(lat, lon)"
   ]
  },
  {
   "cell_type": "code",
   "execution_count": null,
   "id": "72c3d135-c097-46e7-a173-9cb66d6449b8",
   "metadata": {},
   "outputs": [],
   "source": [
    "# Tomorrow.io\n",
    "tomorrow_wx = collect_tomorrow(lat, lon)"
   ]
  },
  {
   "cell_type": "code",
   "execution_count": null,
   "id": "a28c0635-0982-4401-b42d-8f1bf9b24303",
   "metadata": {},
   "outputs": [],
   "source": [
    "# OpenMeteo\n",
    "openmeteo_wx = collect_openmeteo(lat, lon)"
   ]
  },
  {
   "cell_type": "code",
   "execution_count": 1,
   "id": "d47339fe-87b8-49d7-a90f-f820327f289c",
   "metadata": {},
   "outputs": [
    {
     "name": "stdout",
     "output_type": "stream",
     "text": [
      "https://aviationweather.gov/api/data/dataserver?requestType=retrieve&dataSource=metars&stationString=LEAB&startTime=2025-03-27T06%3A20%3A17Z&endTime=2025-03-27T07%3A20%3A17Z&format=xml&mostRecent=true\n",
      "{'response': {'@xmlns:xsd': 'http://www.w3.org/2001/XMLSchema', '@xmlns:xsi': 'http://www.w3.org/2001/XMLSchema-instance', '@version': '1.3', '@xsi:noNamespaceSchemaLocation': 'https://aviationweather.gov/data/schema/metar1_3.xsd', 'request_index': '1743074418', 'data_source': {'@name': 'metars'}, 'request': {'@type': 'retrieve'}, 'errors': None, 'warnings': None, 'time_taken_ms': '8', 'data': {'@num_results': '1', 'METAR': {'raw_text': 'LEAB 270700Z 30003KT CAVOK 05/03 Q1017 NOSIG', 'station_id': 'LEAB', 'observation_time': '2025-03-27T07:00:00Z', 'latitude': '38.952', 'longitude': '-1.863', 'temp_c': '5', 'dewpoint_c': '3', 'wind_dir_degrees': '300', 'wind_speed_kt': '3', 'visibility_statute_mi': '6+', 'altim_in_hg': '30.03', 'quality_control_flags': {'no_signal': 'TRUE'}, 'sky_condition': {'@sky_cover': 'CAVOK'}, 'flight_category': 'VFR', 'metar_type': 'METAR', 'elevation_m': '704'}}}}\n",
      "{'datetime': {'date': '2025-03-27', 'time': '07:00:00', 'utc_epoch': None, 'epoch': 1743073200}, 'location': {'latitude': None, 'longitude': None, 'altitude': None, 'name': None, 'country': None, 'latitutde': '38.952', 'longitutde': '-1.863'}, 'data': {'model': None, 'code': None, 'clouds': {'base': None, 'ceiling': None, 'altitude': None, 'cover': 0.0, 'tabulated': {'heights': None, 'values': None}}, 'energy': {'conv_avail_pot': None, 'conv_inhibition': None, 'lifted_index': None, 'bndry_layer_height': None}, 'health': {'uv_concern': None, 'uv_index': None}, 'moon': {'phase': None, 'moonrise': None, 'moonset': None}, 'particulates': {'species': None, 'pollutant': None, 'matter': None}, 'precipitation': {'rain': {'intensity': None, 'probability': None, 'accumulated': None, 'frz_rain_int': None}, 'snow': {'intensity': None, 'probability': None, 'accumulated': None}, 'sleet': {'intensity': None, 'probability': None, 'accumulated': None}, 'ice': {'intensity': None, 'probability': None, 'accumulated': None}, 'hail': {'intensity': None, 'probability': None, 'accumulated': None, 'size': None}, 'evapotranspiration': None, 'probability': None}, 'pressure': {'geopotential': {'heights': None, 'values': None}, 'sea_level': None, 'surface': None, 'vapor_pressure': None, 'vapor_pressure_deficit': None}, 'radiation': {'cape': None, 'convective_inhibition': None, 'diffuse': None, 'direct': None, 'global_tilted': None, 'global_horizontal': None, 'shortwave': None, 'terrestrial': None}, 'soil': {'moisture': {'tabulated': {'depth': None, 'values': None}}, 'temperature': {'tabulated': {'depth': None, 'values': None}}}, 'sun': {'sunrise': None, 'sunset': None, 'duration': None}, 'temperature': {'tabulated': {'heights': None, 'values': None}, 'measured': '5', 'apparent': None, 'dewpoint': '3', 'humidity': None, 'wetbulb': None}, 'visibility': 9.65604, 'wind': {'speed': 5.556, 'gust': {'heights': None, 'values': None}, 'direction': '300'}, 'waves': {'height': None, 'direction': None, 'period': None}}}\n"
     ]
    }
   ],
   "source": [
    "# Aviation Weather\n",
    "aviawx_data = collect_aviationwx(\"LEAB\")"
   ]
  },
  {
   "cell_type": "code",
   "execution_count": null,
   "id": "c027224f-9253-4cb3-a578-9977d6e1bf02",
   "metadata": {},
   "outputs": [],
   "source": [
    "from raven.modules.weather import gather_accuwx\n",
    "\n",
    "accuwx_data = gather_accuwx(lat, lon)"
   ]
  },
  {
   "cell_type": "code",
   "execution_count": null,
   "id": "69de8937-4521-4418-9148-adbd01b2b0ea",
   "metadata": {},
   "outputs": [],
   "source": [
    "## Store data on Azure\n",
    "# store_wx_data(wx_id=\"tmrwio\", lat=lat, lon=lon)\n",
    "# store_wx_data(wx_id=\"openwx\", lat=lat, lon=lon)\n",
    "# tore_wx_data(wx_id=\"openmt\", lat=lat, lon=lon)"
   ]
  }
 ],
 "metadata": {
  "kernelspec": {
   "display_name": "RAVEN Environment",
   "language": "python",
   "name": "raven-env"
  },
  "language_info": {
   "codemirror_mode": {
    "name": "ipython",
    "version": 3
   },
   "file_extension": ".py",
   "mimetype": "text/x-python",
   "name": "python",
   "nbconvert_exporter": "python",
   "pygments_lexer": "ipython3",
   "version": "3.13.2"
  }
 },
 "nbformat": 4,
 "nbformat_minor": 5
}
