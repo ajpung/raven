{
 "cells": [
  {
   "cell_type": "markdown",
   "id": "10354cd3-6ae5-4a3c-8423-63345d53ef0f",
   "metadata": {},
   "source": [
    "## Location analysis\n",
    "\n",
    "Ideally, the user specifies an LLA coordinate in the API. The coordinate is then compared to a list of NNNN METARs around the world, choosing the top 5 closest."
   ]
  },
  {
   "cell_type": "code",
   "execution_count": 1,
   "id": "b96002ab-ded6-49aa-9fc1-5ceda5232852",
   "metadata": {},
   "outputs": [],
   "source": [
    "from raven.core.location import find_airport_distances\n",
    "\n",
    "desired_lat, desired_lon = 38.422508, -85.797630\n",
    "data_df = find_airport_distances(lat=desired_lat, lon=desired_lon)\n",
    "\n",
    "lat, lon, icao = [data_df.iloc[0][x] for x in [\"Latitude\", \"Longitude\", \"ICAO\"]]"
   ]
  },
  {
   "cell_type": "markdown",
   "id": "48379070-1a10-4784-8f6d-d9f9b39ad949",
   "metadata": {},
   "source": [
    "## Weather Collection\n",
    "\n",
    "Collected weather sources include modeled data and empirical data. Modeled data draws from Tomorrow.io, OpenMeteo, Visual Crossing, AccuWeather. Empirical data draws from Aviation Weather.\n",
    "\n",
    "Other powerful sources were considered, but are not used based on the lack of a free data tier. Those sources include Synoptic Data."
   ]
  },
  {
   "cell_type": "code",
   "execution_count": 2,
   "id": "f71635d4-48be-4feb-ac7b-03d367f66f34",
   "metadata": {},
   "outputs": [],
   "source": [
    "# test_weather.py\n",
    "from raven.modules.weather import collect_accuwx\n",
    "from raven.modules.weather import collect_tomorrow\n",
    "from raven.modules.weather import collect_openmeteo\n",
    "from raven.modules.weather import collect_aviationwx\n",
    "from raven.modules.weather import collect_visualcrossing"
   ]
  },
  {
   "cell_type": "code",
   "execution_count": 3,
   "id": "e0f281e0-51f1-4ba2-8e9f-c21de7255d27",
   "metadata": {},
   "outputs": [],
   "source": [
    "# AccuWeather\n",
    "accuwx_data = collect_accuwx(lat, lon)"
   ]
  },
  {
   "cell_type": "code",
   "execution_count": 4,
   "id": "d47339fe-87b8-49d7-a90f-f820327f289c",
   "metadata": {},
   "outputs": [],
   "source": [
    "# Aviation Weather\n",
    "aviawx_data = collect_aviationwx(\"LEAB\")"
   ]
  },
  {
   "cell_type": "code",
   "execution_count": 5,
   "id": "a28c0635-0982-4401-b42d-8f1bf9b24303",
   "metadata": {},
   "outputs": [],
   "source": [
    "# OpenMeteo\n",
    "openmeteo_wx = collect_openmeteo(lat, lon)"
   ]
  },
  {
   "cell_type": "code",
   "execution_count": 6,
   "id": "72c3d135-c097-46e7-a173-9cb66d6449b8",
   "metadata": {},
   "outputs": [],
   "source": [
    "# Tomorrow.io\n",
    "tomorrow_wx = collect_tomorrow(lat, lon)"
   ]
  },
  {
   "cell_type": "code",
   "execution_count": 7,
   "id": "11893744-a445-4e37-a9cc-33b1d4918ca8",
   "metadata": {},
   "outputs": [],
   "source": [
    "# Visual Crossing\n",
    "vscs_data = collect_visualcrossing(lat, lon)"
   ]
  },
  {
   "cell_type": "code",
   "execution_count": null,
   "id": "69de8937-4521-4418-9148-adbd01b2b0ea",
   "metadata": {},
   "outputs": [],
   "source": [
    "## Store data on Azure\n",
    "# store_wx_data(wx_id=\"tmrwio\", lat=lat, lon=lon)\n",
    "# store_wx_data(wx_id=\"openwx\", lat=lat, lon=lon)\n",
    "# tore_wx_data(wx_id=\"openmt\", lat=lat, lon=lon)"
   ]
  }
 ],
 "metadata": {
  "kernelspec": {
   "display_name": "RAVEN Environment",
   "language": "python",
   "name": "raven-env"
  },
  "language_info": {
   "codemirror_mode": {
    "name": "ipython",
    "version": 3
   },
   "file_extension": ".py",
   "mimetype": "text/x-python",
   "name": "python",
   "nbconvert_exporter": "python",
   "pygments_lexer": "ipython3",
   "version": "3.13.2"
  }
 },
 "nbformat": 4,
 "nbformat_minor": 5
}
