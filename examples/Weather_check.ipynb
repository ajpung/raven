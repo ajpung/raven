{
 "cells": [
  {
   "cell_type": "code",
   "execution_count": null,
   "id": "3308bbd7-2dd2-4bfa-b64f-b0abd0425d67",
   "metadata": {},
   "outputs": [],
   "source": [
    "from raven.modules.weather.collection import collect_tomorrow\n",
    "from raven.modules.weather.collection import collect_openwx\n",
    "from raven.modules.weather.collection import collect_openmt\n",
    "\n",
    "# Parameters\n",
    "lat, lon = 38.422508, -85.797633"
   ]
  },
  {
   "cell_type": "code",
   "execution_count": null,
   "id": "72c3d135-c097-46e7-a173-9cb66d6449b8",
   "metadata": {},
   "outputs": [],
   "source": [
    "# Tomorrow.io\n",
    "tmrw_data = collect_tomorrow(lat, lon)\n",
    "print(tmrw_data)"
   ]
  },
  {
   "cell_type": "code",
   "execution_count": null,
   "id": "c027224f-9253-4cb3-a578-9977d6e1bf02",
   "metadata": {},
   "outputs": [],
   "source": [
    "# OpenWeatherMap\n",
    "opwx_data = collect_openwx(lat, lon)\n",
    "print(opwx_data)"
   ]
  },
  {
   "cell_type": "code",
   "execution_count": null,
   "id": "a28c0635-0982-4401-b42d-8f1bf9b24303",
   "metadata": {},
   "outputs": [],
   "source": [
    "# OpenMeteo\n",
    "opmt_data = collect_openmt(lat, lon)\n",
    "print(opmt_data)"
   ]
  },
  {
   "cell_type": "code",
   "execution_count": 1,
   "id": "11893744-a445-4e37-a9cc-33b1d4918ca8",
   "metadata": {},
   "outputs": [
    {
     "name": "stdout",
     "output_type": "stream",
     "text": [
      "38.422508\n",
      "-85.797633\n",
      "BUNCLFV8DPFNKB2YEP3T4HGNB\n",
      "<Response [200]>\n",
      "https://weather.visualcrossing.com/VisualCrossingWebServices/rest/services/timeline/38.422508%2C%20-85.797633?unitGroup=metric&&include=current&key=BUNCLFV8DPFNKB2YEP3T4HGNB&contentType=json\n",
      "<Response [200]>\n"
     ]
    }
   ],
   "source": [
    "# Visual Crossing\n",
    "from raven.modules.weather.collection import collect_viscrs\n",
    "\n",
    "lat, lon = 38.422508, -85.797633\n",
    "vscs_data = collect_viscrs(lat, lon)\n",
    "print(vscs_data)"
   ]
  },
  {
   "cell_type": "code",
   "execution_count": null,
   "id": "69de8937-4521-4418-9148-adbd01b2b0ea",
   "metadata": {},
   "outputs": [],
   "source": []
  }
 ],
 "metadata": {
  "kernelspec": {
   "display_name": "RAVEN Environment",
   "language": "python",
   "name": "raven-env"
  },
  "language_info": {
   "codemirror_mode": {
    "name": "ipython",
    "version": 3
   },
   "file_extension": ".py",
   "mimetype": "text/x-python",
   "name": "python",
   "nbconvert_exporter": "python",
   "pygments_lexer": "ipython3",
   "version": "3.13.2"
  }
 },
 "nbformat": 4,
 "nbformat_minor": 5
}
