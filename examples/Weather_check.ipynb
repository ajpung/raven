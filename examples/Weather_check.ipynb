{
 "cells": [
  {
   "cell_type": "code",
   "execution_count": 1,
   "id": "3308bbd7-2dd2-4bfa-b64f-b0abd0425d67",
   "metadata": {},
   "outputs": [],
   "source": [
    "# test_weather.py\n",
    "from raven.modules.weather import collect_tomorrow\n",
    "from raven.modules.weather import collect_openmeteo\n",
    "from raven.modules.weather import gather_visualcrossing\n",
    "\n",
    "# Parameters\n",
    "lat, lon = 38.422508, -85.797633"
   ]
  },
  {
   "cell_type": "code",
   "execution_count": 2,
   "id": "72c3d135-c097-46e7-a173-9cb66d6449b8",
   "metadata": {},
   "outputs": [],
   "source": [
    "# Tomorrow.io\n",
    "tomorrow_wx = collect_tomorrow(lat, lon)"
   ]
  },
  {
   "cell_type": "code",
   "execution_count": 3,
   "id": "a28c0635-0982-4401-b42d-8f1bf9b24303",
   "metadata": {},
   "outputs": [],
   "source": [
    "# OpenMeteo\n",
    "openmeteo_wx = collect_openmeteo(lat, lon)"
   ]
  },
  {
   "cell_type": "code",
   "execution_count": null,
   "id": "c027224f-9253-4cb3-a578-9977d6e1bf02",
   "metadata": {},
   "outputs": [],
   "source": [
    "# OpenWeatherMap\n",
    "opwx_data = collect_openwx(lat, lon)"
   ]
  },
  {
   "cell_type": "code",
   "execution_count": 2,
   "id": "11893744-a445-4e37-a9cc-33b1d4918ca8",
   "metadata": {},
   "outputs": [
    {
     "name": "stdout",
     "output_type": "stream",
     "text": [
      "{'queryCost': 1, 'latitude': 38.422508, 'longitude': -85.797633, 'resolvedAddress': '38.422508,-85.797633', 'address': '38.422508,-85.797633', 'timezone': 'America/Kentucky/Louisville', 'tzoffset': -5.0, 'days': [{'datetime': '2025-03-03', 'datetimeEpoch': 1740978000, 'tempmax': 13.3, 'tempmin': -3.1, 'temp': 4.0, 'feelslikemax': 13.3, 'feelslikemin': -5.8, 'feelslike': 3.0, 'dew': -8.6, 'humidity': 42.4, 'precip': 0.0, 'precipprob': 1.0, 'precipcover': 0.0, 'preciptype': None, 'snow': 0.0, 'snowdepth': 0.0, 'windgust': 27.7, 'windspeed': 15.2, 'winddir': 152.7, 'pressure': 1022.2, 'cloudcover': 21.9, 'visibility': 16.1, 'solarradiation': 173.3, 'solarenergy': 15.1, 'uvindex': 6.0, 'severerisk': 10.0, 'sunrise': '07:11:51', 'sunriseEpoch': 1741003911, 'sunset': '18:38:50', 'sunsetEpoch': 1741045130, 'moonphase': 0.13, 'conditions': 'Partially cloudy', 'description': 'Becoming cloudy in the afternoon.', 'icon': 'partly-cloudy-day', 'stations': ['KFTK', 'KLOU', 'AU953', 'KSDF'], 'source': 'comb'}], 'stations': {'KFTK': {'distance': 60090.0, 'latitude': 37.9, 'longitude': -85.97, 'useCount': 0, 'id': 'KFTK', 'name': 'KFTK', 'quality': 97, 'contribution': 0.0}, 'KJVY': {'distance': 8106.0, 'latitude': 38.367, 'longitude': -85.738, 'useCount': 0, 'id': 'KJVY', 'name': 'Clark Regional Airport IN US NWS/FAA', 'quality': 0, 'contribution': 0.0}, 'E0284': {'distance': 12046.0, 'latitude': 38.332, 'longitude': -85.873, 'useCount': 0, 'id': 'E0284', 'name': 'EW0284 Floyds Knobs IN US', 'quality': 0, 'contribution': 0.0}, 'KLOU': {'distance': 25148.0, 'latitude': 38.22, 'longitude': -85.67, 'useCount': 0, 'id': 'KLOU', 'name': 'KLOU', 'quality': 100, 'contribution': 0.0}, 'AU953': {'distance': 12718.0, 'latitude': 38.311, 'longitude': -85.83, 'useCount': 0, 'id': 'AU953', 'name': 'N9OKI New Albany IN US', 'quality': 0, 'contribution': 0.0}, 'KSDF': {'distance': 27635.0, 'latitude': 38.18, 'longitude': -85.73, 'useCount': 0, 'id': 'KSDF', 'name': 'KSDF', 'quality': 100, 'contribution': 0.0}, 'IN018': {'distance': 17654.0, 'latitude': 38.269, 'longitude': -85.746, 'useCount': 0, 'id': 'IN018', 'name': 'Jeffersonville IN US INDOT', 'quality': 0, 'contribution': 0.0}}, 'currentConditions': {'datetime': '17:15:00', 'datetimeEpoch': 1741040100, 'temp': 12.6, 'feelslike': 12.6, 'humidity': 21.9, 'dew': -8.7, 'precip': 0.0, 'precipprob': 0.0, 'snow': 0.0, 'snowdepth': 0.0, 'preciptype': None, 'windgust': 12.7, 'windspeed': 10.1, 'winddir': 168.0, 'pressure': 1002.0, 'visibility': 16.0, 'cloudcover': 0.0, 'solarradiation': 141.0, 'solarenergy': 0.5, 'uvindex': 1.0, 'conditions': 'Clear', 'icon': 'clear-day', 'stations': ['KJVY', 'E0284', 'IN018'], 'source': 'obs', 'sunrise': '07:11:51', 'sunriseEpoch': 1741003911, 'sunset': '18:38:50', 'sunsetEpoch': 1741045130, 'moonphase': 0.13}}\n"
     ]
    }
   ],
   "source": [
    "# Visual Crossing\n",
    "vscs_data = gather_visualcrossing(lat, lon)\n",
    "print(vscs_data)"
   ]
  },
  {
   "cell_type": "code",
   "execution_count": null,
   "id": "69de8937-4521-4418-9148-adbd01b2b0ea",
   "metadata": {},
   "outputs": [],
   "source": [
    "# Store data on Azure\n",
    "store_wx_data(wx_id=\"tmrwio\", lat=lat, lon=lon)\n",
    "store_wx_data(wx_id=\"openwx\", lat=lat, lon=lon)\n",
    "tore_wx_data(wx_id=\"openmt\", lat=lat, lon=lon)"
   ]
  }
 ],
 "metadata": {
  "kernelspec": {
   "display_name": "raven-env",
   "language": "python",
   "name": "python3"
  },
  "language_info": {
   "codemirror_mode": {
    "name": "ipython",
    "version": 3
   },
   "file_extension": ".py",
   "mimetype": "text/x-python",
   "name": "python",
   "nbconvert_exporter": "python",
   "pygments_lexer": "ipython3",
   "version": "3.13.2"
  }
 },
 "nbformat": 4,
 "nbformat_minor": 5
}
