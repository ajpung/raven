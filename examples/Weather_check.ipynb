{
 "cells": [
  {
   "cell_type": "code",
   "execution_count": 1,
   "id": "3308bbd7-2dd2-4bfa-b64f-b0abd0425d67",
   "metadata": {},
   "outputs": [],
   "source": [
    "# test_weather.py\n",
    "from raven.modules.weather import collect_openmet_current\n",
    "from raven.modules.weather import collect_openwx\n",
    "from raven.modules.weather import collect_tomorrow\n",
    "from raven.modules.weather import collect_viscrs\n",
    "\n",
    "# Parameters\n",
    "lat, lon = 38.422508, -85.797633"
   ]
  },
  {
   "cell_type": "code",
   "execution_count": 2,
   "id": "72c3d135-c097-46e7-a173-9cb66d6449b8",
   "metadata": {},
   "outputs": [
    {
     "name": "stdout",
     "output_type": "stream",
     "text": [
      "{'datetime': {'date': '2025-02-26', 'time': '12:28:00', 'utc_epoch': None, 'epoch': 1740590880}, 'location': {'latitude': None, 'longitude': None, 'altitude': None, 'name': None, 'country': None, 'latitutde': 38.422508, 'longitutde': -85.797633}, 'data': {'model': None, 'code': 1000, 'clouds': {'base': None, 'ceiling': None, 'altitude': None, 'cover': 6}, 'energy': {'conv_avail_pot': None, 'conv_inhibition': None, 'lifted_index': None, 'bndry_layer_height': None, 'geopotential': None, 'tabulated': {'heights': None, 'values': None}}, 'health': {'uv_concern': 0, 'uv_index': 0}, 'moon': {'phase': None, 'moonrise': None, 'moonset': None}, 'particulates': {'species': None, 'pollutant': None, 'matter': None}, 'precipitation': {'rain': {'intensity': 0, 'probability': None, 'accumulated': None, 'frz_rain_int': 0}, 'snow': {'intensity': 0.0, 'probability': None, 'accumulated': None}, 'sleet': {'intensity': 0, 'probability': None, 'accumulated': None}, 'ice': {'intensity': None, 'probability': None, 'accumulated': None}, 'hail': {'intensity': None, 'probability': 70.4, 'accumulated': None, 'size': 6.56}, 'evapotranspiration': None, 'probability': 0}, 'pressure': {'tabulated': {'heights': None, 'values': None}, 'sea_level': 1013, 'surface': None, 'surface_level': 990}, 'radiation': {'diffuse_ghi': None, 'diffuse_inst': None, 'direct_ghi': None, 'direct_inst': None, 'cape': None, 'glob_tilt_irrad': None, 'glob_horz_rad': None, 'shortwave_ghi': None, 'shortwave_inst': None}, 'soil': {'vol_moisture': None, 'temperature': None}, 'sun': {'sunrise': None, 'sunset': None}, 'temperature': {'tabulated': {'heights': None, 'values': None}, 'measured': 2.3, 'apparent': 0.4, 'dewpoint': 0, 'humidity': 85}, 'visibility': 15.89, 'wind': {'speed': 6.48, 'gust': 11.16, 'direction': 170}, 'waves': {'height': None, 'direction': None, 'period': None}}}\n"
     ]
    }
   ],
   "source": [
    "# Tomorrow.io\n",
    "tmrw_data = collect_tomorrow(lat, lon)\n",
    "print(tmrw_data)"
   ]
  },
  {
   "cell_type": "code",
   "execution_count": 12,
   "id": "fcc0a73b-3137-4807-8314-f8cb3b738282",
   "metadata": {},
   "outputs": [
    {
     "name": "stdout",
     "output_type": "stream",
     "text": [
      "2025-02-26\n",
      "11:51:00\n",
      "1740588660\n"
     ]
    }
   ],
   "source": [
    "import datetime\n",
    "\n",
    "date = (\n",
    "    datetime.datetime.strptime(tmrw_data[\"data\"][\"time\"], \"%Y-%m-%dT%H:%M:%SZ\")\n",
    "    .date()\n",
    "    .strftime(\"%Y-%m-%d\")\n",
    ")\n",
    "time = (\n",
    "    datetime.datetime.strptime(tmrw_data[\"data\"][\"time\"], \"%Y-%m-%dT%H:%M:%SZ\")\n",
    "    .time()\n",
    "    .strftime(\"%H:%M:%S\")\n",
    ")\n",
    "epoch = int(\n",
    "    datetime.datetime.strptime(\n",
    "        tmrw_data[\"data\"][\"time\"], \"%Y-%m-%dT%H:%M:%SZ\"\n",
    "    ).timestamp()\n",
    ")\n",
    "print(date)\n",
    "print(time)\n",
    "print(epoch)"
   ]
  },
  {
   "cell_type": "code",
   "execution_count": null,
   "id": "01db9e38-8ffe-458b-bff3-c642c077ad6a",
   "metadata": {},
   "outputs": [],
   "source": [
    "tmrw_data[\"data\"][\"values\"][\"snowIntensity\"] / 10"
   ]
  },
  {
   "cell_type": "code",
   "execution_count": null,
   "id": "a28c0635-0982-4401-b42d-8f1bf9b24303",
   "metadata": {},
   "outputs": [],
   "source": [
    "# OpenMeteo\n",
    "opmt_data = collect_openmet_current(lat, lon)"
   ]
  },
  {
   "cell_type": "code",
   "execution_count": null,
   "id": "c027224f-9253-4cb3-a578-9977d6e1bf02",
   "metadata": {},
   "outputs": [],
   "source": [
    "# OpenWeatherMap\n",
    "opwx_data = collect_openwx(lat, lon)"
   ]
  },
  {
   "cell_type": "code",
   "execution_count": null,
   "id": "11893744-a445-4e37-a9cc-33b1d4918ca8",
   "metadata": {},
   "outputs": [],
   "source": [
    "# Visual Crossing\n",
    "vscs_data = collect_viscrs(lat, lon)"
   ]
  },
  {
   "cell_type": "code",
   "execution_count": null,
   "id": "69de8937-4521-4418-9148-adbd01b2b0ea",
   "metadata": {},
   "outputs": [],
   "source": [
    "# Store data on Azure\n",
    "store_wx_data(wx_id=\"tmrwio\", lat=lat, lon=lon)\n",
    "store_wx_data(wx_id=\"openwx\", lat=lat, lon=lon)\n",
    "tore_wx_data(wx_id=\"openmt\", lat=lat, lon=lon)"
   ]
  }
 ],
 "metadata": {
  "kernelspec": {
   "display_name": "RAVEN Environment",
   "language": "python",
   "name": "raven-env"
  },
  "language_info": {
   "codemirror_mode": {
    "name": "ipython",
    "version": 3
   },
   "file_extension": ".py",
   "mimetype": "text/x-python",
   "name": "python",
   "nbconvert_exporter": "python",
   "pygments_lexer": "ipython3",
   "version": "3.13.2"
  }
 },
 "nbformat": 4,
 "nbformat_minor": 5
}
